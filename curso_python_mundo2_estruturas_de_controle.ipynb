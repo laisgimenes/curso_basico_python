{
 "cells": [
  {
   "cell_type": "markdown",
   "id": "c1723e37",
   "metadata": {},
   "source": [
    "### Condições Aninhadas"
   ]
  },
  {
   "cell_type": "code",
   "execution_count": 6,
   "id": "579d2ed9",
   "metadata": {},
   "outputs": [
    {
     "name": "stdout",
     "output_type": "stream",
     "text": [
      "Qual é seu nome? Gael\n",
      "Que nome bonito!\n",
      "Tenha um bom dia, GAEL!\n"
     ]
    }
   ],
   "source": [
    "nome = input('Qual é seu nome? ').strip().upper()\n",
    "\n",
    "if(nome == 'GAEL'):\n",
    "    print('Que nome bonito!')\n",
    "elif(nome == 'PEDRO' or nome == 'MARIA' or nome == 'PAULO'):\n",
    "    print('Seu nome é bem popular no Brasil.')\n",
    "elif(nome in 'ANA CLÁUDIA JÉSSICA JULIANA'):\n",
    "    print('Belo nome você tem.')\n",
    "else:\n",
    "    print('Seu nome é bem normal.')\n",
    "print(f'Tenha um bom dia, {nome}!')"
   ]
  },
  {
   "cell_type": "markdown",
   "id": "f43bf72f",
   "metadata": {},
   "source": [
    "<hr>\n",
    "<h3 style=\"color:red\">DESAFIO 36</h3>\n",
    "\n",
    "Escreva um programa para aprovar o empréstimo bancário para a compra de uma casa. Pergunte o valor da casa, o salário do comprador e em quantos anos ele vai pagar. A prestação mensal não pode exceder 30% do salário ou então o empréstimo será negado."
   ]
  },
  {
   "cell_type": "code",
   "execution_count": 2,
   "id": "e75b35c5",
   "metadata": {},
   "outputs": [
    {
     "name": "stdout",
     "output_type": "stream",
     "text": [
      "Valor da casa: R$80000\n",
      "Salário do comprador: R$1600\n",
      "Quantos anos de financiamento?: 7\n",
      "Para pagar uma casa de R$80000.0 em 7 anos a prestação será de R$952.38\n",
      "Empréstimo NEGADO!\n"
     ]
    }
   ],
   "source": [
    "preco_casa = float(input('Valor da casa: R$'))\n",
    "salario = float(input('Salário do comprador: R$'))\n",
    "anos = int(input('Quantos anos de financiamento?: '))\n",
    "\n",
    "\n",
    "prestacao = preco_casa / (anos * 12)\n",
    "\n",
    "print(f'Para pagar uma casa de R${preco_casa} em {anos} anos a prestação será de R${round(prestacao,2)}')\n",
    "\n",
    "if(prestacao  > salario * 0.3):\n",
    "    print('Empréstimo NEGADO!')\n",
    "\n",
    "else:\n",
    "    print('Empréstimo pode ser CONCEDIDO!')"
   ]
  },
  {
   "cell_type": "markdown",
   "id": "da870b24",
   "metadata": {},
   "source": [
    "<hr>\n",
    "<h3 style=\"color:red\">DESAFIO 37</h3>\n",
    "\n",
    "Escreva um programa em Python que leia um número inteiro qualquer e peça para o usuário escolher qual será a base de conversão: 1 para binário, 2 para octal e 3 para hexadecimal."
   ]
  },
  {
   "cell_type": "code",
   "execution_count": 18,
   "id": "59996110",
   "metadata": {},
   "outputs": [
    {
     "name": "stdout",
     "output_type": "stream",
     "text": [
      "Digite um número inteiro: 234\n",
      "Escolha uma das bases para conversão:\n",
      "[1] converter para BINÁRIO\n",
      "[2] converter para OCTAL\n",
      "[3] converter para HEXADECIMAL\n",
      "Sua opção: 2\n",
      "234 convertido para OCTAL é igual a 352\n"
     ]
    }
   ],
   "source": [
    "num = int(input('Digite um número inteiro: '))\n",
    "\n",
    "print('''Escolha uma das bases para conversão:\n",
    "[1] converter para BINÁRIO\n",
    "[2] converter para OCTAL\n",
    "[3] converter para HEXADECIMAL''')\n",
    "\n",
    "opc = int(input('Sua opção: '))\n",
    "\n",
    "binar = bin(num)[2:]\n",
    "octa = oct(num)[2:]\n",
    "hexa = hex(num)[2:]\n",
    "\n",
    "if(opc == 1):\n",
    "    print(f'{num} convertido para BINÁRIO é igual a {binar}')\n",
    "\n",
    "elif(opc == 2):\n",
    "    print(f'{num} convertido para OCTAL é igual a {octa}')\n",
    "    \n",
    "elif(opc == 3):\n",
    "    print(f'{num} convertido para HEXADECIMAL é igual a {hexa}')\n",
    "    \n",
    "else:\n",
    "    print('Opção inválida, tente novamente!')"
   ]
  },
  {
   "cell_type": "markdown",
   "id": "deaa9fb1",
   "metadata": {},
   "source": [
    "<hr>\n",
    "<h3 style=\"color:red\">DESAFIO 38</h3>\n",
    "\n",
    " Escreva um programa que leia dois números inteiros e compare-os. mostrando na tela uma mensagem:\n",
    "- O primeiro valor é maior\n",
    "- O segundo valor é maior\n",
    "- Não existe valor maior, os dois são iguais"
   ]
  },
  {
   "cell_type": "code",
   "execution_count": 22,
   "id": "3fa740e1",
   "metadata": {},
   "outputs": [
    {
     "name": "stdout",
     "output_type": "stream",
     "text": [
      "Digite um número inteiro: 12\n",
      "Digite outro número inteiro: 12\n",
      "Não existe valor maior, os dois são IGUAIS.\n"
     ]
    }
   ],
   "source": [
    "num1 = int(input('Digite um número inteiro: '))\n",
    "num2 = int(input('Digite outro número inteiro: '))\n",
    "\n",
    "if(num1 > num2):\n",
    "    print('O PRIMEIRO valor é maior.')\n",
    "elif(num1 < num2):\n",
    "    print('O SEGUNDO valor é maior.')\n",
    "else:\n",
    "    print('Não existe valor maior, os dois são IGUAIS.')"
   ]
  },
  {
   "cell_type": "markdown",
   "id": "87562ca5",
   "metadata": {},
   "source": [
    "<hr>\n",
    "<h3 style=\"color:red\">DESAFIO 39</h3>\n",
    "\n",
    " Faça um programa que leia o ano de nascimento de um jovem e informe, de acordo com a sua idade, se ele ainda vai se alistar ao serviço militar, se é a hora exata de se alistar ou se já passou do tempo do alistamento. Seu programa também deverá mostrar o tempo que falta ou que passou do prazo."
   ]
  },
  {
   "cell_type": "code",
   "execution_count": 30,
   "id": "84688bb7",
   "metadata": {},
   "outputs": [
    {
     "name": "stdout",
     "output_type": "stream",
     "text": [
      "Ano de nascimento: 2005\n",
      "Quem nasceu em 2005 tem 18 anos em 2023.\n",
      "Você tem que se alistar IMEDIATAMENTE!\n"
     ]
    }
   ],
   "source": [
    "import datetime\n",
    "\n",
    "ano = int(input('Ano de nascimento: '))\n",
    "\n",
    "ano_atual = datetime.date.today().year\n",
    "\n",
    "idade = ano_atual - ano\n",
    "\n",
    "print(f'Quem nasceu em {ano} tem {idade} anos em {ano_atual}.')\n",
    "\n",
    "if(idade < 18):\n",
    "    print(f'Ainda faltam {18 - idade} anos para o alistamento.')\n",
    "    print(f'Seu alistamento será em {ano_atual + (18 - idade)}.')\n",
    "    \n",
    "elif(idade > 18):\n",
    "    print(f'Você já deveria ter se alistado há {idade - 18} anos.')\n",
    "    print(f'Seu alistamento foi em {ano_atual - (idade - 18)}.')\n",
    "    \n",
    "else:\n",
    "    print('Você tem que se alistar IMEDIATAMENTE!')\n",
    "    \n",
    "\n"
   ]
  },
  {
   "cell_type": "markdown",
   "id": "607aa7bc",
   "metadata": {},
   "source": [
    "<hr>\n",
    "<h3 style=\"color:red\">DESAFIO 40</h3>\n",
    "\n",
    "Crie um programa que leia duas notas de um aluno e calcule sua média, mostrando uma mensagem no final, de acordo com a média atingida:\n",
    "- Média abaixo de 5.0: REPROVADO\n",
    "- Média entre 5.0 e 6.9: RECUPERAÇÃO\n",
    "- Média 7.0 ou superior: APROVADO"
   ]
  },
  {
   "cell_type": "code",
   "execution_count": 34,
   "id": "a90312ee",
   "metadata": {},
   "outputs": [
    {
     "name": "stdout",
     "output_type": "stream",
     "text": [
      "Primeira nota: 2\n",
      "Segunda nota: 4\n",
      "Tirando 2.0 e 4.0, a média do aluno é 3.0\n",
      "O aluno está REPROVADO.\n"
     ]
    }
   ],
   "source": [
    "nota1 = float(input('Primeira nota: '))\n",
    "nota2 = float(input('Segunda nota: '))\n",
    "\n",
    "media = (nota1 + nota2) / 2\n",
    "\n",
    "print(f'Tirando {nota1} e {nota2}, a média do aluno é {media}')\n",
    "\n",
    "if(media < 5):\n",
    "    print('O aluno está REPROVADO.')\n",
    "elif(media >= 5 and media <= 6.9):\n",
    "    print('O aluno está em RECUPERAÇÃO.')\n",
    "    \n",
    "else:\n",
    "    print('O aluno está APROVADO.')"
   ]
  },
  {
   "cell_type": "markdown",
   "id": "907d20d3",
   "metadata": {},
   "source": [
    "<hr>\n",
    "<h3 style=\"color:red\">DESAFIO 41</h3>\n",
    "\n",
    "A Confederação Nacional de Natação precisa de um programa que leia o ano de nascimento de um atleta e mostre sua categoria, de acordo com a idade:\n",
    "- Até 9 anos: MIRIM\n",
    "- Até 14 anos: INFANTIL\n",
    "- Até 19 anos: JÚNIOR\n",
    "- Até 25 anos: SÊNIOR\n",
    "- Acima de 25 anos: MASTER"
   ]
  },
  {
   "cell_type": "code",
   "execution_count": 39,
   "id": "692b550f",
   "metadata": {},
   "outputs": [
    {
     "name": "stdout",
     "output_type": "stream",
     "text": [
      "Ano de Nascimento: 1995\n",
      "O atleta tem 28 anos.\n",
      "Classificação: MASTER.\n"
     ]
    }
   ],
   "source": [
    "import datetime\n",
    "\n",
    "ano_atual = datetime.date.today().year\n",
    "\n",
    "ano = int(input('Ano de Nascimento: '))\n",
    "idade = ano_atual - ano\n",
    "\n",
    "print(f'O atleta tem {idade} anos.')\n",
    "\n",
    "if(idade <= 9):\n",
    "    print('Classificação: MIRIM.')\n",
    "elif(idade <= 14):\n",
    "    print('Classificação: INFANTIL.')\n",
    "elif(idade <= 19):\n",
    "    print('Classificação: JUNIOR.')\n",
    "elif(idade <= 25):\n",
    "    print('Classificação: SENIOR.')\n",
    "else:\n",
    "    print('Classificação: MASTER.')"
   ]
  },
  {
   "cell_type": "markdown",
   "id": "967bda9c",
   "metadata": {},
   "source": [
    "<hr>\n",
    "<h3 style=\"color:red\">DESAFIO 42</h3>\n",
    "\n",
    "Refaça o DESAFIO 035 dos triângulos, acrescentando o recurso de mostrar que tipo de triângulo será formado:\n",
    "- EQUILÁTERO: todos os lados iguais\n",
    "- ISÓSCELES: dois lados iguais, um diferente\n",
    "- ESCALENO: todos os lados diferentes\n"
   ]
  },
  {
   "cell_type": "code",
   "execution_count": 45,
   "id": "9c646fc8",
   "metadata": {},
   "outputs": [
    {
     "name": "stdout",
     "output_type": "stream",
     "text": [
      "Primeiro segmento: 1\n",
      "Segundo segmento: 9\n",
      "Terceiro segmento: 8\n",
      "Os segmentos acima NÃO PODEM FORMAR um triângulo!\n"
     ]
    }
   ],
   "source": [
    "# Condicao de existencia de um triangulo:\n",
    "# \"A soma de dois lados é sempre menor que o terceiro lado\"\n",
    "\n",
    "reta1 = float(input('Primeiro segmento: '))\n",
    "reta2 = float(input('Segundo segmento: '))\n",
    "reta3 = float(input('Terceiro segmento: '))\n",
    "\n",
    "if(reta1 + reta2 > reta3 and reta2 + reta3 > reta1 and reta1 + reta3 > reta2):\n",
    "    if(reta1 == reta2 and reta1 == reta3):\n",
    "        print('Os segmentos acima PODEM FORMAR um triângulo EQUILÁTERO.')\n",
    "    elif(reta1 != reta2 and reta1 != reta3):\n",
    "        print('Os segmentos acima PODEM FORMAR um triângulo ESCALENO.')\n",
    "    else: \n",
    "        print('Os segmentos acima PODEM FORMAR um triângulo ISÓSCELES.')\n",
    "else:\n",
    "    print('Os segmentos acima NÃO PODEM FORMAR um triângulo!')"
   ]
  },
  {
   "cell_type": "markdown",
   "id": "489e2193",
   "metadata": {},
   "source": [
    "<hr>\n",
    "<h3 style=\"color:red\">DESAFIO 43</h3>\n",
    "\n",
    "Desenvolva uma lógica que leia o peso e a altura de uma pessoa, calcule seu Índice de Massa Corporal (IMC) e mostre seu status, de acordo com a tabela abaixo:\n",
    "- IMC abaixo de 18,5: Abaixo do Peso\n",
    "- Entre 18,5 e 25: Peso Ideal\n",
    "- 25 até 30: Sobrepeso\n",
    "- 30 até 40: Obesidade\n",
    "- Acima de 40: Obesidade Mórbida"
   ]
  },
  {
   "cell_type": "code",
   "execution_count": 51,
   "id": "007b0145",
   "metadata": {},
   "outputs": [
    {
     "name": "stdout",
     "output_type": "stream",
     "text": [
      "Qual é seu peso? (Kg) 45\n",
      "Qual é sua altura? (m) 1.80\n",
      "O IMC desse pessoa é de 13.9\n",
      "Você está ABAIXO DO PESO normal.\n"
     ]
    }
   ],
   "source": [
    "peso = float(input('Qual é seu peso? (Kg) '))\n",
    "altura = float(input('Qual é sua altura? (m) '))\n",
    "\n",
    "imc = peso / (altura**2)\n",
    "\n",
    "print(f'O IMC desse pessoa é de {round(imc,1)}')\n",
    "\n",
    "if(imc < 18.5):\n",
    "    print('Você está ABAIXO DO PESO normal.')\n",
    "elif(imc >= 18.5 and imc < 25):\n",
    "    print('PARABÉNS, você está na faixa de PESO NORMAL.')\n",
    "elif(imc >= 25 and imc < 30):\n",
    "    print('Você está com SOBREPESO!')\n",
    "elif(imc >= 30 and imc < 40):\n",
    "    print('Você está em OBESIDADE!')\n",
    "else:\n",
    "    print('Você está em OBESIDADE MÓRBIDA, cuidado!')"
   ]
  },
  {
   "cell_type": "markdown",
   "id": "86312963",
   "metadata": {},
   "source": [
    "<hr>\n",
    "<h3 style=\"color:red\">DESAFIO 44</h3>\n",
    "\n",
    "Elabore um programa que calcule o valor a ser pago por um produto, considerando o seu preço normal e condição de pagamento:\n",
    "- à vista dinheiro/cheque: 10% de desconto\n",
    "- à vista no cartão: 5% de desconto\n",
    "- em até 2x no cartão: preço normal\n",
    "- 3x ou mais no cartão: 20% de juros\n"
   ]
  },
  {
   "cell_type": "code",
   "execution_count": 55,
   "id": "4c8f5364",
   "metadata": {},
   "outputs": [
    {
     "name": "stdout",
     "output_type": "stream",
     "text": [
      "Preço das compras: R$4000\n",
      "FORMAS DE PAGAMENTO\n",
      "[1] à vista dinheiro/cheque\n",
      "[2] à vista cartão\n",
      "[3] 2x no cartão\n",
      "[4] 3x ou mais no cartão\n",
      "Qual é a opção? 4\n",
      "Quantas parcelas? 10\n",
      "Sua compra será parcelada em 10x de R$480.0 com JUROS.\n",
      "Sua compra de R$4000.0 vai custar R$4800.0 no final\n"
     ]
    }
   ],
   "source": [
    "valor = float(input('Preço das compras: R$'))\n",
    "\n",
    "print('''FORMAS DE PAGAMENTO\n",
    "[1] à vista dinheiro/cheque\n",
    "[2] à vista cartão\n",
    "[3] 2x no cartão\n",
    "[4] 3x ou mais no cartão''')\n",
    "\n",
    "opc = int(input('Qual é a opção? '))\n",
    "\n",
    "if(opc == 1):\n",
    "    print(f'Sua compra de R${valor} vai custar R${valor - (valor * 0.1)} no final.')\n",
    "    \n",
    "elif(opc == 2):\n",
    "    print(f'Sua compra de R${valor} vai custar R${valor - (valor * 0.05)} no final.')\n",
    "    \n",
    "elif(opc == 3):\n",
    "    print(f'Sua compra de R${valor} vai custar R${valor} no final.')\n",
    "    \n",
    "elif(opc == 4):\n",
    "    parc = int(input('Quantas parcelas? '))\n",
    "    print(f'Sua compra será parcelada em {parc}x de R${(valor + (valor * 0.2))/parc} com JUROS.')\n",
    "    print(f'Sua compra de R${valor} vai custar R${valor + (valor * 0.2)} no final')\n",
    "    \n",
    "else:\n",
    "    print('Opção inválida! Tente novamente.')  "
   ]
  },
  {
   "cell_type": "markdown",
   "id": "205e1d8c",
   "metadata": {},
   "source": [
    "<hr>\n",
    "<h3 style=\"color:red\">DESAFIO 45</h3>\n",
    "\n",
    "Crie um programa que faça o computador jogar Jokenpô com você."
   ]
  },
  {
   "cell_type": "code",
   "execution_count": 60,
   "id": "1b9af47c",
   "metadata": {},
   "outputs": [
    {
     "name": "stdout",
     "output_type": "stream",
     "text": [
      "Suas opções:\n",
      "[0] PEDRA\n",
      "[1] PAPEL\n",
      "[2] TESOURA\n",
      "Qual é a sua jogada? 0\n",
      "JO\n",
      "KEN\n",
      "PO!!!\n",
      "-=-=-=-=-=-=-=-=-=-=-=-=\n",
      "Computador jogou PEDRA.\n",
      "Jogador jogou PEDRA.\n",
      "-=-=-=-=-=-=-=-=-=-=-=-=\n",
      "JOGADOR VENCE!\n"
     ]
    }
   ],
   "source": [
    "import time\n",
    "import random\n",
    "\n",
    "print('''Suas opções:\n",
    "[0] PEDRA\n",
    "[1] PAPEL\n",
    "[2] TESOURA''')\n",
    "\n",
    "opc = int(input('Qual é a sua jogada? '))\n",
    "opcoes = ['PEDRA','PAPEL','TESOURA']\n",
    "\n",
    "computador = random.randint(0, 2)\n",
    "\n",
    "print('JO')\n",
    "time.sleep(1)\n",
    "print('KEN')\n",
    "time.sleep(1)\n",
    "print('PO!!!')\n",
    "\n",
    "print('-='*12)\n",
    "print(f'Computador jogou {opcoes[computador]}.')\n",
    "print(f'Jogador jogou {opcoes[opc]}.')\n",
    "print('-='*12)\n",
    "\n",
    "if(opc == computador):\n",
    "    print('JOGADOR VENCE!')\n",
    "elif(opc != computador):\n",
    "    print('JOGADOR PERDE!')\n",
    "else:\n",
    "    print('Opção inválida! Tente novamente.')\n"
   ]
  },
  {
   "cell_type": "markdown",
   "id": "1c32dd7f",
   "metadata": {},
   "source": [
    "<hr>"
   ]
  },
  {
   "cell_type": "markdown",
   "id": "af64e0ef",
   "metadata": {},
   "source": [
    "### Estruturas de Repetição For\n",
    "\n",
    "Ou seja, com variável de controle."
   ]
  },
  {
   "cell_type": "code",
   "execution_count": 10,
   "id": "01c2147e",
   "metadata": {},
   "outputs": [
    {
     "name": "stdout",
     "output_type": "stream",
     "text": [
      "Oi!\n",
      "Oi!\n",
      "Oi!\n",
      "Oi!\n",
      "Oi!\n",
      "\n",
      "FIM!\n"
     ]
    }
   ],
   "source": [
    "for i in range(1, 6): # Repetindo a string 'Oi!' 5 vezes\n",
    "    print('Oi!')\n",
    "print()\n",
    "print('FIM!')"
   ]
  },
  {
   "cell_type": "code",
   "execution_count": 11,
   "id": "320382be",
   "metadata": {},
   "outputs": [
    {
     "name": "stdout",
     "output_type": "stream",
     "text": [
      "1\n",
      "2\n",
      "3\n",
      "4\n",
      "5\n",
      "6\n"
     ]
    }
   ],
   "source": [
    "for i in range(1, 7):\n",
    "    print(i)"
   ]
  },
  {
   "cell_type": "code",
   "execution_count": 12,
   "id": "8a0273a8",
   "metadata": {},
   "outputs": [
    {
     "name": "stdout",
     "output_type": "stream",
     "text": [
      "6\n",
      "5\n",
      "4\n",
      "3\n",
      "2\n",
      "1\n"
     ]
    }
   ],
   "source": [
    "for i in range(6, 0, -1):\n",
    "    print(i)"
   ]
  },
  {
   "cell_type": "code",
   "execution_count": 13,
   "id": "9869401b",
   "metadata": {},
   "outputs": [
    {
     "name": "stdout",
     "output_type": "stream",
     "text": [
      "Digite um número inteiro: 3\n",
      "0\n",
      "1\n",
      "2\n",
      "3\n",
      "FIM!\n"
     ]
    }
   ],
   "source": [
    "n = int(input('Digite um número inteiro: '))\n",
    "\n",
    "for i in range(0, n+1):\n",
    "    print(i)\n",
    "print('FIM!')"
   ]
  },
  {
   "cell_type": "code",
   "execution_count": 14,
   "id": "b011e64f",
   "metadata": {},
   "outputs": [
    {
     "name": "stdout",
     "output_type": "stream",
     "text": [
      "Início: 1\n",
      "Fim: 6\n",
      "Passo: 2\n",
      "1\n",
      "3\n",
      "5\n",
      "FIM!\n"
     ]
    }
   ],
   "source": [
    "i = int(input('Início: '))\n",
    "f = int(input('Fim: '))\n",
    "p = int(input('Passo: '))\n",
    "\n",
    "for i in range(i, f+1, p):\n",
    "    print(i)\n",
    "print('FIM!')"
   ]
  },
  {
   "cell_type": "code",
   "execution_count": 15,
   "id": "a8689e04",
   "metadata": {},
   "outputs": [
    {
     "name": "stdout",
     "output_type": "stream",
     "text": [
      "Digite um valor: 2\n",
      "Digite um valor: 8\n",
      "Digite um valor: 5\n",
      "FIM!\n"
     ]
    }
   ],
   "source": [
    "for i in range(0, 3):\n",
    "    n = int(input('Digite um valor: '))\n",
    "print('FIM!')"
   ]
  },
  {
   "cell_type": "code",
   "execution_count": 16,
   "id": "a8ddcbb0",
   "metadata": {},
   "outputs": [
    {
     "name": "stdout",
     "output_type": "stream",
     "text": [
      "Digite um valor: 5\n",
      "Digite um valor: 4\n",
      "Digite um valor: 2\n",
      "Digite um valor: 1\n",
      "O somatório de todos os valores foi 12\n"
     ]
    }
   ],
   "source": [
    "s = 0\n",
    "\n",
    "for i in range(0, 4):\n",
    "    n = int(input('Digite um valor: '))\n",
    "    s = s + n\n",
    "print(f'O somatório de todos os valores foi {s}')"
   ]
  },
  {
   "cell_type": "markdown",
   "id": "03716a16",
   "metadata": {},
   "source": [
    "<hr>\n",
    "<h3 style=\"color:red\">DESAFIO 46</h3>\n",
    "\n",
    "Faça um programa que mostre na tela uma contagem regressiva para o estouro de fogos de artifício, indo de 10 até 0, com uma pausa de 1 segundo entre eles."
   ]
  },
  {
   "cell_type": "code",
   "execution_count": 19,
   "id": "568a7eec",
   "metadata": {},
   "outputs": [
    {
     "name": "stdout",
     "output_type": "stream",
     "text": [
      "10\n",
      "9\n",
      "8\n",
      "7\n",
      "6\n",
      "5\n",
      "4\n",
      "3\n",
      "2\n",
      "1\n",
      "FIM!\n"
     ]
    }
   ],
   "source": [
    "import time\n",
    "\n",
    "for i in range(10, 0, -1):\n",
    "    print(i)\n",
    "    time.sleep(1)\n",
    "print('FIM!')"
   ]
  },
  {
   "cell_type": "markdown",
   "id": "7543964f",
   "metadata": {},
   "source": [
    "<hr>\n",
    "<h3 style=\"color:red\">DESAFIO 47</h3>\n",
    "\n",
    "Crie um programa que mostre na tela todos os números pares que estão no intervalo entre 1 e 50."
   ]
  },
  {
   "cell_type": "code",
   "execution_count": 26,
   "id": "34e081fd",
   "metadata": {},
   "outputs": [
    {
     "name": "stdout",
     "output_type": "stream",
     "text": [
      "2 4 6 8 10 12 14 16 18 20 22 24 26 28 30 32 34 36 38 40 42 44 46 48 50 ACABOU!\n"
     ]
    }
   ],
   "source": [
    "for i in range(2, 51, 2):\n",
    "    print(i, end=' ')\n",
    "print('ACABOU!')"
   ]
  },
  {
   "cell_type": "markdown",
   "id": "babb752f",
   "metadata": {},
   "source": [
    "#### Outra maneira de fazer o DESAFIO 47"
   ]
  },
  {
   "cell_type": "code",
   "execution_count": 36,
   "id": "a086a977",
   "metadata": {},
   "outputs": [
    {
     "name": "stdout",
     "output_type": "stream",
     "text": [
      "2 4 6 8 10 12 14 16 18 20 22 24 26 28 30 32 34 36 38 40 42 44 46 48 50 ACABOU!\n"
     ]
    }
   ],
   "source": [
    "for i in range(1, 51):\n",
    "    if(i % 2 == 0):\n",
    "        print(i, end= ' ')\n",
    "print('ACABOU!')"
   ]
  },
  {
   "cell_type": "markdown",
   "id": "3662a5e6",
   "metadata": {},
   "source": [
    "<hr>\n",
    "<h3 style=\"color:red\">DESAFIO 48</h3>\n",
    "\n",
    "Faça um programa que calcule a soma entre todos os números ímpares que são múltiplos de três e que se encontram no intervalo de 1 até 500."
   ]
  },
  {
   "cell_type": "code",
   "execution_count": 42,
   "id": "bd0f797d",
   "metadata": {},
   "outputs": [
    {
     "name": "stdout",
     "output_type": "stream",
     "text": [
      "3 9 15 21 27 33 39 45 51 57 63 69 75 81 87 93 99 105 111 117 123 129 135 141 147 153 159 165 171 177 183 189 195 201 207 213 219 225 231 237 243 249 255 261 267 273 279 285 291 297 303 309 315 321 327 333 339 345 351 357 363 369 375 381 387 393 399 405 411 417 423 429 435 441 447 453 459 465 471 477 483 489 495 \n",
      "\n",
      "A quantidade de números ímpares que são múltiplos de 3 e que estão entre 1 e 500 é 83 números.\n",
      "\n",
      "A soma de todos os números múltiplos de 3 que estão entre 1 e 500 é 20667.\n"
     ]
    }
   ],
   "source": [
    "s = 0\n",
    "c = 0\n",
    "for i in range(1, 501):\n",
    "    if(i % 3 == 0 and i % 2 != 0):\n",
    "        s = s + i\n",
    "        c = c + 1\n",
    "        print(i, end=' ')\n",
    "print()\n",
    "print(f'\\nA quantidade de números ímpares que são múltiplos de 3 e que estão entre 1 e 500 é {c} números.')\n",
    "print(f'\\nA soma de todos os números múltiplos de 3 que estão entre 1 e 500 é {s}.')"
   ]
  },
  {
   "cell_type": "markdown",
   "id": "9ae49af8",
   "metadata": {},
   "source": [
    "<hr>\n",
    "<h3 style=\"color:red\">DESAFIO 49</h3>\n",
    "\n",
    "Refaça o DESAFIO 009, mostrando a tabuada de um número que o usuário escolher, só que agora utilizando um laço for."
   ]
  },
  {
   "cell_type": "code",
   "execution_count": 61,
   "id": "974e5ee7",
   "metadata": {},
   "outputs": [
    {
     "name": "stdout",
     "output_type": "stream",
     "text": [
      "Digite um número para mostrar sua tabuada: 2\n",
      "2 x  1 = 2\n",
      "2 x  2 = 4\n",
      "2 x  3 = 6\n",
      "2 x  4 = 8\n",
      "2 x  5 = 10\n",
      "2 x  6 = 12\n",
      "2 x  7 = 14\n",
      "2 x  8 = 16\n",
      "2 x  9 = 18\n",
      "2 x 10 = 20\n"
     ]
    }
   ],
   "source": [
    "n = int(input('Digite um número para mostrar sua tabuada: '))\n",
    "\n",
    "for i in range(1, 11):\n",
    "    print('{} x {:2} = {}'.format(n, i, n*i))"
   ]
  },
  {
   "cell_type": "markdown",
   "id": "e252bcbb",
   "metadata": {},
   "source": [
    "<hr>\n",
    "<h3 style=\"color:red\">DESAFIO 50</h3>\n",
    "\n",
    "Desenvolva um programa que leia seis números inteiros e mostre a soma apenas daqueles que forem pares. Se o valor digitado for ímpar, desconsidere-o."
   ]
  },
  {
   "cell_type": "code",
   "execution_count": 54,
   "id": "08a32dd7",
   "metadata": {},
   "outputs": [
    {
     "name": "stdout",
     "output_type": "stream",
     "text": [
      "Digite um número inteiro: 1\n",
      "Digite um número inteiro: 2\n",
      "Digite um número inteiro: 3\n",
      "Digite um número inteiro: 5\n",
      "Digite um número inteiro: 4\n",
      "Digite um número inteiro: 8\n",
      "Você informou 3 números pares e a soma deles é 14.\n"
     ]
    }
   ],
   "source": [
    "s = 0\n",
    "c = 0\n",
    "for i in range(1, 7):\n",
    "    n = int(input('Digite um número inteiro: '))\n",
    "    if(n % 2 == 0):\n",
    "        s = s + n\n",
    "        c = c + 1\n",
    "print(f'Você informou {c} números pares e a soma deles é {s}.')\n",
    "    "
   ]
  },
  {
   "cell_type": "markdown",
   "id": "029afee2",
   "metadata": {},
   "source": [
    "<hr>\n",
    "<h3 style=\"color:red\">DESAFIO 51</h3>\n",
    "\n",
    "Desenvolva um programa que leia o primeiro termo e a razão de uma PA. No final, mostre os 10 primeiros termos dessa progressão."
   ]
  },
  {
   "cell_type": "code",
   "execution_count": 97,
   "id": "0841f103",
   "metadata": {},
   "outputs": [
    {
     "name": "stdout",
     "output_type": "stream",
     "text": [
      "Digite o primeiro termo de uma PA: 7\n",
      "Digite a razão dessa PA: 1\n",
      "7 -> 8 -> 9 -> 10 -> 11 -> 12 -> 13 -> 14 -> 15 -> 16 -> ACABOU\n"
     ]
    }
   ],
   "source": [
    "termo = int(input('Digite o primeiro termo de uma PA: '))\n",
    "razao = int(input('Digite a razão dessa PA: '))\n",
    "\n",
    "n_esimo_termo = termo + razao * (10 - 1)\n",
    "\n",
    "print(f'{termo} ->',end=' ')\n",
    "for i in range(termo, n_esimo_termo, razao):\n",
    "    termo = termo + razao\n",
    "    print(f'{termo} ->', end=' ')\n",
    "print('ACABOU')"
   ]
  },
  {
   "cell_type": "markdown",
   "id": "1015ecfb",
   "metadata": {},
   "source": [
    "#### Outra maneira de fazer o DESAFIO 51"
   ]
  },
  {
   "cell_type": "code",
   "execution_count": 100,
   "id": "1c01debe",
   "metadata": {},
   "outputs": [
    {
     "name": "stdout",
     "output_type": "stream",
     "text": [
      "Digite o primeiro termo de uma PA: 7\n",
      "Digite a razão dessa PA: 1\n",
      "7 -> 8 -> 9 -> 10 -> 11 -> 12 -> 13 -> 14 -> 15 -> 16 -> ACABOU\n"
     ]
    }
   ],
   "source": [
    "termo = int(input('Digite o primeiro termo de uma PA: '))\n",
    "razao = int(input('Digite a razão dessa PA: '))\n",
    "\n",
    "n_esimo_termo = termo + razao * (10 - 1)\n",
    "\n",
    "for i in range(termo, n_esimo_termo+razao, razao):\n",
    "    print(f'{i} ->', end=' ')\n",
    "print('ACABOU')"
   ]
  },
  {
   "cell_type": "markdown",
   "id": "0d652015",
   "metadata": {},
   "source": [
    "<hr>\n",
    "<h3 style=\"color:red\">DESAFIO 52</h3>\n",
    "\n",
    "Faça um programa que leia um número inteiro e diga se ele é ou não um número primo."
   ]
  },
  {
   "cell_type": "code",
   "execution_count": 39,
   "id": "6e024ddb",
   "metadata": {},
   "outputs": [
    {
     "name": "stdout",
     "output_type": "stream",
     "text": [
      "Digite um número: 13\n",
      "\u001b[34m 1 \u001b[31m 2 \u001b[31m 3 \u001b[31m 4 \u001b[31m 5 \u001b[31m 6 \u001b[31m 7 \u001b[31m 8 \u001b[31m 9 \u001b[31m 10 \u001b[31m 11 \u001b[31m 12 \u001b[34m 13 \n",
      "\u001b[mO número 13 foi divisível 2 vez(es).\n",
      "E por isso ele É PRIMO!\n"
     ]
    }
   ],
   "source": [
    "num = int(input('Digite um número: '))\n",
    "cont = 0\n",
    "for i in range(1, num + 1):\n",
    "    \n",
    "    if(num % i == 0):\n",
    "        print('\\033[34m', end=' ')\n",
    "        cont = cont + 1\n",
    "         \n",
    "    else:\n",
    "        print('\\033[31m',end=' ')\n",
    "        \n",
    "    print(f'{i}', end=' ')\n",
    "    \n",
    "print(f'\\n\\033[mO número {num} foi divisível {cont} vez(es).')\n",
    "\n",
    "if(num == 0 or num == 1):\n",
    "    print(f'NÃO É PRIMO!')\n",
    "elif(cont == 2):\n",
    "    print(f'E por isso ele É PRIMO!')\n",
    "else:\n",
    "    print(f'E por isso ele NÃO É PRIMO!')"
   ]
  },
  {
   "cell_type": "markdown",
   "id": "2dfdcfb0",
   "metadata": {},
   "source": [
    "<hr>\n",
    "<h3 style=\"color:red\">DESAFIO 53</h3>\n",
    "\n",
    "Crie um programa que leia uma frase qualquer e diga se ela é um palíndromo, desconsiderando os espaços."
   ]
  },
  {
   "cell_type": "code",
   "execution_count": 79,
   "id": "daa4737b",
   "metadata": {},
   "outputs": [
    {
     "name": "stdout",
     "output_type": "stream",
     "text": [
      "Digite uma frase: a sacada da casa\n",
      "O inverso de ASACADADACASA é ASACADADACASA\n",
      "Temos um palíndromo!\n"
     ]
    }
   ],
   "source": [
    "frs = input('Digite uma frase: ')\n",
    "junto = ''.join(frs.strip().upper().split())\n",
    "inverso = ''\n",
    "\n",
    "for i in range(len(junto)-1,-1,-1):\n",
    "    inverso = inverso + junto[i]\n",
    "\n",
    "print(f'O inverso de {junto} é {inverso}')\n",
    "\n",
    "if(junto == inverso):\n",
    "    print('Temos um palíndromo!')\n",
    "else:\n",
    "    print('A frase não é um palíndromo!')"
   ]
  },
  {
   "cell_type": "markdown",
   "id": "878dc4bd",
   "metadata": {},
   "source": [
    "<hr>\n",
    "<h3 style=\"color:red\">DESAFIO 54</h3>\n",
    "\n",
    "Crie um programa que leia o ano de nascimento de sete pessoas. No final, mostre quantas pessoas ainda não atingiram a maioridade e quantas já são maiores."
   ]
  },
  {
   "cell_type": "code",
   "execution_count": 83,
   "id": "e58f40fe",
   "metadata": {},
   "outputs": [
    {
     "name": "stdout",
     "output_type": "stream",
     "text": [
      "Em que ano a 1ª pessoa nasceu? 2010\n",
      "Em que ano a 2ª pessoa nasceu? 1960\n",
      "Em que ano a 3ª pessoa nasceu? 2011\n",
      "Em que ano a 4ª pessoa nasceu? 1970\n",
      "Em que ano a 5ª pessoa nasceu? 2015\n",
      "Em que ano a 6ª pessoa nasceu? 1940\n",
      "Em que ano a 7ª pessoa nasceu? 2016\n",
      "\n",
      "Ao todo tivemos 3 pessoas maiores de idade.\n",
      "E também tivemos 4 pessoas menores de idade.\n"
     ]
    }
   ],
   "source": [
    "import datetime\n",
    "\n",
    "ano_atual = datetime.date.today().year\n",
    "maior = 0\n",
    "menor = 0 \n",
    "\n",
    "for i in range(1, 8):\n",
    "    ano = int(input(f'Em que ano a {i}ª pessoa nasceu? '))\n",
    "    \n",
    "    if(ano_atual - ano >= 18):\n",
    "        maior = maior + 1\n",
    "    else:\n",
    "        menor = menor + 1\n",
    "        \n",
    "print(f'\\nAo todo tivemos {maior} pessoas maiores de idade.')\n",
    "print(f'E também tivemos {menor} pessoas menores de idade.')\n",
    "    "
   ]
  },
  {
   "cell_type": "markdown",
   "id": "0a61842b",
   "metadata": {},
   "source": [
    "<hr>\n",
    "<h3 style=\"color:red\">DESAFIO 55</h3>\n",
    "\n",
    "Faça um programa que leia o peso de cinco pessoas. No final, mostre qual foi o maior e o menor peso lidos."
   ]
  },
  {
   "cell_type": "code",
   "execution_count": 84,
   "id": "e3c5f948",
   "metadata": {},
   "outputs": [
    {
     "name": "stdout",
     "output_type": "stream",
     "text": [
      "Peso da 1ª pessoa: 85.6\n",
      "Peso da 2ª pessoa: 90.2\n",
      "Peso da 3ª pessoa: 48.9\n",
      "Peso da 4ª pessoa: 70.7\n",
      "Peso da 5ª pessoa: 65.5\n",
      "O maior peso lido foi de 90.2Kg\n",
      "O menor peso lido foi de 48.9Kg\n"
     ]
    }
   ],
   "source": [
    "maior = 0 \n",
    "menor = 0\n",
    "\n",
    "for i in range(1, 6):\n",
    "    peso = float(input(f'Peso da {i}ª pessoa: '))\n",
    "    \n",
    "    if(i == 1):\n",
    "        maior = peso\n",
    "        menor = peso\n",
    "    else:\n",
    "        if(peso > maior):\n",
    "            maior = peso\n",
    "        elif(peso < menor):\n",
    "            menor = peso\n",
    "print(f'O maior peso lido foi de {maior}Kg')\n",
    "print(f'O menor peso lido foi de {menor}Kg')"
   ]
  },
  {
   "cell_type": "markdown",
   "id": "66e22913",
   "metadata": {},
   "source": [
    "<hr>\n",
    "<h3 style=\"color:red\">DESAFIO 56</h3>\n",
    "\n",
    "Desenvolva um programa que leia o nome, idade e sexo de 4 pessoas. No final do programa, mostre: a média de idade do grupo, qual é o nome do homem mais velho e quantas mulheres têm menos de 20 anos."
   ]
  },
  {
   "cell_type": "code",
   "execution_count": 104,
   "id": "68c4c9c1",
   "metadata": {},
   "outputs": [
    {
     "name": "stdout",
     "output_type": "stream",
     "text": [
      "==== 1ª PESSOA ====\n",
      "Nome: joao\n",
      "Idade: 22\n",
      "Sexo [M/F]: m\n",
      "==== 2ª PESSOA ====\n",
      "Nome: maria\n",
      "Idade: 12\n",
      "Sexo [M/F]: f\n",
      "==== 3ª PESSOA ====\n",
      "Nome: claudio\n",
      "Idade: 75\n",
      "Sexo [M/F]: m\n",
      "==== 4ª PESSOA ====\n",
      "Nome: ana\n",
      "Idade: 9\n",
      "Sexo [M/F]: f\n",
      "A média de idade do grupo é de 29.5 anos.\n",
      "O homem mais velho tem 75 anos e se chama claudio.\n",
      "Ao todo são 2 mulheres com menos de 20 anos.\n"
     ]
    }
   ],
   "source": [
    "mais_velho = 0\n",
    "nome_mais_velho = ''\n",
    "mulher = 0\n",
    "media = 0\n",
    "soma = 0\n",
    "for i in range(1, 5):\n",
    "    print('='*4,end=' ')\n",
    "    print(f'{i}ª PESSOA', end= ' ')\n",
    "    print('='*4)\n",
    "    nome = input(f'Nome: ').strip()\n",
    "    idade = int(input('Idade: '))\n",
    "    sexo = input('Sexo [M/F]: ').strip()\n",
    "    soma = soma + idade\n",
    "    \n",
    "    if(sexo in 'Ff' and idade < 20):\n",
    "        mulher = mulher + 1\n",
    "    \n",
    "    if(i == 1 and sexo in 'Mm'):\n",
    "        mais_velho = idade\n",
    "        nome_mais_velho = nome\n",
    "        \n",
    "    if(sexo in 'Mm' and idade > mais_velho):\n",
    "            mais_velho = idade\n",
    "            nome_mais_velho = nome\n",
    "            \n",
    "media = soma / 4\n",
    "\n",
    "print(f'A média de idade do grupo é de {media} anos.')\n",
    "print(f'O homem mais velho tem {mais_velho} anos e se chama {nome_mais_velho}.')\n",
    "print(f'Ao todo são {mulher} mulheres com menos de 20 anos.')"
   ]
  },
  {
   "cell_type": "markdown",
   "id": "5f805883",
   "metadata": {},
   "source": [
    "<hr>"
   ]
  },
  {
   "cell_type": "markdown",
   "id": "3f846cfe",
   "metadata": {},
   "source": [
    "### Estrutura de repetição While\n",
    "\n",
    "Ou seja, com teste lógico."
   ]
  },
  {
   "cell_type": "code",
   "execution_count": 22,
   "id": "7906d896",
   "metadata": {},
   "outputs": [
    {
     "name": "stdout",
     "output_type": "stream",
     "text": [
      "1\n",
      "2\n",
      "3\n",
      "4\n",
      "5\n",
      "6\n",
      "7\n",
      "8\n",
      "9\n",
      "FIM!\n"
     ]
    }
   ],
   "source": [
    "c = 1\n",
    "\n",
    "while c < 10:\n",
    "    print(c)\n",
    "    c = c + 1\n",
    "print('FIM!') "
   ]
  },
  {
   "cell_type": "code",
   "execution_count": 20,
   "id": "e0307cd5",
   "metadata": {},
   "outputs": [
    {
     "name": "stdout",
     "output_type": "stream",
     "text": [
      "5 4 3 2 1 "
     ]
    }
   ],
   "source": [
    "x = 5\n",
    "while(x >= 1):\n",
    "    print(x, end=' ')\n",
    "    x = x - 1"
   ]
  },
  {
   "cell_type": "code",
   "execution_count": 111,
   "id": "9c75a402",
   "metadata": {},
   "outputs": [
    {
     "name": "stdout",
     "output_type": "stream",
     "text": [
      "Digite um valor: 1\n",
      "Digite um valor: 2\n",
      "Digite um valor: 5\n",
      "Digite um valor: 5\n",
      "Digite um valor: 5\n",
      "Digite um valor: 5\n",
      "Digite um valor: 0\n",
      "FIM!\n"
     ]
    }
   ],
   "source": [
    "n = 1\n",
    "while (n != 0):\n",
    "    n = int(input('Digite um valor: '))\n",
    "print('FIM!')"
   ]
  },
  {
   "cell_type": "code",
   "execution_count": 112,
   "id": "c8ae809f",
   "metadata": {},
   "outputs": [
    {
     "name": "stdout",
     "output_type": "stream",
     "text": [
      "Digite um valor: 3\n",
      "Quer continuar? [S/N] s\n",
      "Digite um valor: 2\n",
      "Quer continuar? [S/N] s\n",
      "Digite um valor: 3\n",
      "Quer continuar? [S/N] n\n",
      "FIM!\n"
     ]
    }
   ],
   "source": [
    "r = 'S'\n",
    "\n",
    "while (r == 'S'):\n",
    "    n = int(input('Digite um valor: '))\n",
    "    r = input('Quer continuar? [S/N] ').upper()\n",
    "print('FIM!')"
   ]
  },
  {
   "cell_type": "code",
   "execution_count": 113,
   "id": "eec9f810",
   "metadata": {},
   "outputs": [
    {
     "name": "stdout",
     "output_type": "stream",
     "text": [
      "Digite um valor: 1\n",
      "Digite um valor: 2\n",
      "Digite um valor: 5\n",
      "Digite um valor: 4\n",
      "Digite um valor: 0\n",
      "Você digitou 2 números pares e 2 números impares!\n"
     ]
    }
   ],
   "source": [
    "n = 1\n",
    "par = 0\n",
    "impar = 0\n",
    "\n",
    "while n != 0:\n",
    "    n = int(input('Digite um valor: '))\n",
    "    \n",
    "    if(n != 0):\n",
    "        if(n % 2 == 0):\n",
    "            par = par + 1\n",
    "        else:\n",
    "            impar = impar + 1\n",
    "\n",
    "print(f'Você digitou {par} números pares e {impar} números impares!')"
   ]
  },
  {
   "cell_type": "markdown",
   "id": "87286d46",
   "metadata": {},
   "source": [
    "<hr>\n",
    "<h3 style=\"color:red\">DESAFIO 57</h3>\n",
    "\n",
    "Faça um programa que leia o sexo de uma pessoa, mas só aceite os valores 'M' ou 'F'. Caso esteja errado, peça a digitação novamente até ter um valor correto."
   ]
  },
  {
   "cell_type": "code",
   "execution_count": 5,
   "id": "26588fd3",
   "metadata": {},
   "outputs": [
    {
     "name": "stdout",
     "output_type": "stream",
     "text": [
      "Informe seu sexo: [M/F] g\n",
      "Dados inválidos. Por favor, informe seu sexo: [M/F] t\n",
      "Dados inválidos. Por favor, informe seu sexo: [M/F] y\n",
      "Dados inválidos. Por favor, informe seu sexo: [M/F] u\n",
      "Dados inválidos. Por favor, informe seu sexo: [M/F] f\n",
      "Sexo F registrado com sucesso.\n"
     ]
    }
   ],
   "source": [
    "sexo = str(input('Informe seu sexo: [M/F] ')).strip().upper()[0]\n",
    "\n",
    "while(sexo not in 'MF'):\n",
    "    sexo = str(input('Dados inválidos. Por favor, informe seu sexo: [M/F] ')).strip().upper()[0]\n",
    "\n",
    "print(f'Sexo {sexo} registrado com sucesso.')\n"
   ]
  },
  {
   "cell_type": "markdown",
   "id": "dad4b691",
   "metadata": {},
   "source": [
    "<hr>\n",
    "<h3 style=\"color:red\">DESAFIO 58</h3>\n",
    "\n",
    "Melhore o jogo do DESAFIO 028 onde o computador vai \"pensar\" em um número entre 0 e 10. Só que agora o jogador vai tentar adivinhar até acertar, mostrando no final quantos palpites foram necessários para vencer."
   ]
  },
  {
   "cell_type": "code",
   "execution_count": 10,
   "id": "f485696c",
   "metadata": {},
   "outputs": [
    {
     "name": "stdout",
     "output_type": "stream",
     "text": [
      "Sou seu computador...\n",
      "Acabei de pensar em um número entre 0 e 10.\n",
      "Será que você consegue adivinhar qual foi?\n",
      "Qual é  seu palpite? 0\n",
      "Mais... Tente mais uma vez.\n",
      "Qual é  seu palpite? 2\n",
      "Mais... Tente mais uma vez.\n",
      "Qual é  seu palpite? 5\n",
      "Mais... Tente mais uma vez.\n",
      "Qual é  seu palpite? 6\n",
      "Mais... Tente mais uma vez.\n",
      "Qual é  seu palpite? 7\n",
      "Mais... Tente mais uma vez.\n",
      "Qual é  seu palpite? 8\n",
      "Mais... Tente mais uma vez.\n",
      "Qual é  seu palpite? 9\n",
      "Acertou com 7 tentativas. Parabéns!\n"
     ]
    }
   ],
   "source": [
    "import random\n",
    "\n",
    "comp = random.randint(0, 10)\n",
    "cont = 0\n",
    "\n",
    "print('Sou seu computador...')\n",
    "print('Acabei de pensar em um número entre 0 e 10.')\n",
    "print('Será que você consegue adivinhar qual foi?')\n",
    "\n",
    "\n",
    "acertou = False\n",
    "\n",
    "while(not acertou):\n",
    "    chute = int(input('Qual é  seu palpite? '))\n",
    "    cont = cont + 1\n",
    "    \n",
    "    if(chute < comp):\n",
    "        print('Mais... Tente mais uma vez.')\n",
    "    \n",
    "    else:\n",
    "    \n",
    "        if(chute > comp):\n",
    "            print('Menos... Tente mais uma vez')\n",
    "\n",
    "        elif(chute == comp):\n",
    "            acertou = True\n",
    "    \n",
    "\n",
    "print(f'Acertou com {cont} tentativas. Parabéns!')"
   ]
  },
  {
   "cell_type": "markdown",
   "id": "6eec5992",
   "metadata": {},
   "source": [
    "<hr>\n",
    "<h3 style=\"color:red\">DESAFIO 59</h3>\n",
    "\n",
    "Crie um programa que leia dois valores e mostre um menu na tela:\n",
    "* [ 1 ] somar\n",
    "* [ 2 ] multiplicar\n",
    "* [ 3 ] maior\n",
    "* [ 4 ] novos números\n",
    "* [ 5 ] sair do programa\n",
    "\n",
    "Seu programa deverá realizar a operação solicitada em cada caso."
   ]
  },
  {
   "cell_type": "code",
   "execution_count": 23,
   "id": "97c12676",
   "metadata": {},
   "outputs": [
    {
     "name": "stdout",
     "output_type": "stream",
     "text": [
      "Primeiro valor: 2\n",
      "Segundo valor: 3\n",
      "[1] Somar\n",
      "[2] Multiplicar\n",
      "[3] Maior\n",
      "[4] Novos números\n",
      "[5] Sair do programa\n",
      ">>>>> Qual é a sua opção? 1\n",
      "A soma entre 2 + 3 é 5\n",
      "\n",
      "    [1] Somar\n",
      "    [2] Multiplicar\n",
      "    [3] Maior\n",
      "    [4] Novos números\n",
      "    [5] Sair do programa\n",
      ">>>>> Qual é a sua opção? 2\n",
      "O resultado de 2 x 3 é 6\n",
      "\n",
      "    [1] Somar\n",
      "    [2] Multiplicar\n",
      "    [3] Maior\n",
      "    [4] Novos números\n",
      "    [5] Sair do programa\n",
      ">>>>> Qual é a sua opção? 3\n",
      "Entre 2 e 3 o maior valor é 3\n",
      "\n",
      "    [1] Somar\n",
      "    [2] Multiplicar\n",
      "    [3] Maior\n",
      "    [4] Novos números\n",
      "    [5] Sair do programa\n",
      ">>>>> Qual é a sua opção? 4\n",
      "Primeiro valor: 2\n",
      "Segundo valor: 4\n",
      "\n",
      "    [1] Somar\n",
      "    [2] Multiplicar\n",
      "    [3] Maior\n",
      "    [4] Novos números\n",
      "    [5] Sair do programa\n",
      ">>>>> Qual é a sua opção? 1\n",
      "A soma entre 2 + 4 é 6\n",
      "\n",
      "    [1] Somar\n",
      "    [2] Multiplicar\n",
      "    [3] Maior\n",
      "    [4] Novos números\n",
      "    [5] Sair do programa\n",
      ">>>>> Qual é a sua opção? 3\n",
      "Entre 2 e 4 o maior valor é 4\n",
      "\n",
      "    [1] Somar\n",
      "    [2] Multiplicar\n",
      "    [3] Maior\n",
      "    [4] Novos números\n",
      "    [5] Sair do programa\n",
      ">>>>> Qual é a sua opção? 7\n",
      "Opção inválida. Tente novamente.\n",
      "\n",
      "    [1] Somar\n",
      "    [2] Multiplicar\n",
      "    [3] Maior\n",
      "    [4] Novos números\n",
      "    [5] Sair do programa\n",
      ">>>>> Qual é a sua opção? 5\n",
      "Finalizando...\n"
     ]
    }
   ],
   "source": [
    "valor1 = int(input('Primeiro valor: '))\n",
    "valor2 = int(input('Segundo valor: '))\n",
    "\n",
    "print('''[1] Somar\n",
    "[2] Multiplicar\n",
    "[3] Maior\n",
    "[4] Novos números\n",
    "[5] Sair do programa''')\n",
    "\n",
    "opc = int(input('>>>>> Qual é a sua opção? '))\n",
    "\n",
    "while(opc != 5):\n",
    "    \n",
    "    if(opc == 1):\n",
    "        soma = valor1 + valor2\n",
    "        print(f'A soma entre {valor1} + {valor2} é {soma}')\n",
    "    \n",
    "    elif(opc == 2):\n",
    "        mult = valor1 * valor2\n",
    "        print(f'O resultado de {valor1} x {valor2} é {mult}')\n",
    "    \n",
    "    elif(opc == 3):\n",
    "        \n",
    "        if(valor1 > valor2):\n",
    "            print(f'Entre {valor1} e {valor2} o maior valor é {valor1}')\n",
    "            \n",
    "        elif(valor1 < valor2):\n",
    "            print(f'Entre {valor1} e {valor2} o maior valor é {valor2}')\n",
    "            \n",
    "        else:\n",
    "            print('Não existe valor maior, os dois valores são iguais.')\n",
    "    \n",
    "    elif(opc == 4):\n",
    "        valor1 = int(input('Primeiro valor: '))\n",
    "        valor2 = int(input('Segundo valor: '))\n",
    "        \n",
    "    else:\n",
    "        print('Opção inválida. Tente novamente.')\n",
    "    \n",
    "    print('''\n",
    "    [1] Somar\n",
    "    [2] Multiplicar\n",
    "    [3] Maior\n",
    "    [4] Novos números\n",
    "    [5] Sair do programa''')\n",
    "\n",
    "    opc = int(input('>>>>> Qual é a sua opção? '))\n",
    "    \n",
    "print('Finalizando...')\n"
   ]
  },
  {
   "cell_type": "markdown",
   "id": "040956ba",
   "metadata": {},
   "source": [
    "<hr>\n",
    "<h3 style=\"color:red\">DESAFIO 60</h3>\n",
    "\n",
    "Faça um programa que leia um número qualquer e mostre o seu fatorial.\n",
    "\n",
    "Ex: 5! = 5 x 4 x 3 x 2 x 1 = 120"
   ]
  },
  {
   "cell_type": "code",
   "execution_count": 46,
   "id": "3ec075fe",
   "metadata": {},
   "outputs": [
    {
     "name": "stdout",
     "output_type": "stream",
     "text": [
      "Digite um número para \n",
      "calcular seu Fatorial: 5\n",
      "Calculando 5! = 5 x 4 x 3 x 2 x 1 = 120\n"
     ]
    }
   ],
   "source": [
    "#from math import factorial\n",
    "\n",
    "num = int(input('Digite um número para \\ncalcular seu Fatorial: '))\n",
    "\n",
    "print(f'Calculando {num}! = ', end= '')\n",
    "\n",
    "f = 1\n",
    "c = num\n",
    "while(c > 0):\n",
    "    print(f'{c}', end=' ')\n",
    "    print('x ' if c > 1 else '= ', end= '')\n",
    "    f = f * c\n",
    "    c = c - 1\n",
    "    \n",
    "print(f)"
   ]
  },
  {
   "cell_type": "markdown",
   "id": "d9341ced",
   "metadata": {},
   "source": [
    "<hr>\n",
    "<h3 style=\"color:red\">DESAFIO 61</h3>\n",
    "\n",
    "Refaça o DESAFIO 051, lendo o primeiro termo e a razão de uma PA, mostrando os 10 primeiros termos da progressão usando a estrutura while."
   ]
  },
  {
   "cell_type": "code",
   "execution_count": 23,
   "id": "8684ceb5",
   "metadata": {},
   "outputs": [
    {
     "name": "stdout",
     "output_type": "stream",
     "text": [
      "Gerador de PA\n",
      "-=-=-=-=-=-=-=-=-=-=\n",
      "Primeiro termo: 2\n",
      "Razão da PA: 3\n",
      "2 -> 5 -> 8 -> 11 -> 14 -> 17 -> 20 -> 23 -> 26 -> 29 -> ACABOU\n"
     ]
    }
   ],
   "source": [
    "print('Gerador de PA')\n",
    "print('-='*10)\n",
    "\n",
    "primeiro = int(input('Primeiro termo: '))\n",
    "razao = int(input('Razão da PA: '))\n",
    "\n",
    "c = 1\n",
    "termo = primeiro\n",
    "\n",
    "while(c <= 10):\n",
    "    print(f'{termo} ->',end=' ')\n",
    "    termo = termo + razao\n",
    "    c = c + 1\n",
    "\n",
    "print('ACABOU')"
   ]
  },
  {
   "cell_type": "markdown",
   "id": "a1704f36",
   "metadata": {},
   "source": [
    "<hr>\n",
    "<h3 style=\"color:red\">DESAFIO 62</h3>\n",
    "\n",
    "Melhore o DESAFIO 061, perguntando para o usuário se ele quer mostrar mais alguns termos. O programa encerrará quando ele disser que quer mostrar 0 termos."
   ]
  },
  {
   "cell_type": "code",
   "execution_count": 5,
   "id": "9f40e483",
   "metadata": {},
   "outputs": [
    {
     "name": "stdout",
     "output_type": "stream",
     "text": [
      "Gerador de PA\n",
      "-=-=-=-=-=-=-=-=-=-=\n",
      "Primeiro termo: 0\n",
      "Razão da PA: 5\n",
      "0 -> 5 -> 10 -> 15 -> 20 -> 25 -> 30 -> 35 -> 40 -> 45 -> PAUSA\n",
      "Quantos termos você quer mostrar a mais? 5\n",
      "50 -> 55 -> 60 -> 65 -> 70 -> PAUSA\n",
      "Quantos termos você quer mostrar a mais? 10\n",
      "75 -> 80 -> 85 -> 90 -> 95 -> 100 -> 105 -> 110 -> 115 -> 120 -> PAUSA\n",
      "Quantos termos você quer mostrar a mais? 2\n",
      "125 -> 130 -> PAUSA\n",
      "Quantos termos você quer mostrar a mais? 0\n",
      "Progressão finalizada com 27 termos mostrados.\n"
     ]
    }
   ],
   "source": [
    "print('Gerador de PA')\n",
    "print('-='*10)\n",
    "\n",
    "primeiro = int(input('Primeiro termo: '))\n",
    "razao = int(input('Razão da PA: '))\n",
    "termo = primeiro\n",
    "c = 1\n",
    "total = 0\n",
    "mais = 10\n",
    "\n",
    "while(mais != 0):\n",
    "    total = total + mais\n",
    "    \n",
    "    while(c <= total):\n",
    "        print(f'{termo} -> ',end='')\n",
    "        termo = termo + razao\n",
    "        c = c + 1\n",
    "    print('PAUSA')\n",
    "\n",
    "    mais = int(input('Quantos termos você quer mostrar a mais? '))\n",
    "print(f'Progressão finalizada com {total} termos mostrados.')\n"
   ]
  },
  {
   "cell_type": "markdown",
   "id": "1ce8a47f",
   "metadata": {},
   "source": [
    "<hr>\n",
    "<h3 style=\"color:red\">DESAFIO 63</h3>\n",
    "\n",
    "Escreva um programa que leia um número N inteiro qualquer e mostre na tela os N primeiros elementos de uma Sequência de Fibonacci. \n",
    "\n",
    "Ex: 0 - 1 - 1 - 2 - 3 - 5 - 8"
   ]
  },
  {
   "cell_type": "code",
   "execution_count": 24,
   "id": "5612e4c4",
   "metadata": {},
   "outputs": [
    {
     "name": "stdout",
     "output_type": "stream",
     "text": [
      "=========================\n",
      "Sequência de Fibonacci\n",
      "=========================\n",
      "Quantos termos você quer mostrar? 8\n",
      "0 -> 1 -> 1 -> 2 -> 3 -> 5 -> 8 -> 13 -> FIM "
     ]
    }
   ],
   "source": [
    "print('='*25)\n",
    "print('Sequência de Fibonacci')\n",
    "print('='*25)\n",
    "\n",
    "N = int(input('Quantos termos você quer mostrar? '))\n",
    "cont = 3\n",
    "t1 = 0\n",
    "t2 = 1\n",
    "t3 = t1 + t2\n",
    "soma = 0\n",
    "\n",
    "print(f'{t1} -> {t2} ->', end=' ')\n",
    "print(f'{t2} ->', end=' ')\n",
    "\n",
    "while(cont < N):\n",
    "    \n",
    "    t1 = t2\n",
    "    t2 = t3\n",
    "    t3 = t1 + t2\n",
    "    \n",
    "    print(f'{t3} ->', end=' ')\n",
    "    cont = cont + 1\n",
    "\n",
    "print('FIM', end=' ')\n",
    "    "
   ]
  },
  {
   "cell_type": "markdown",
   "id": "75d1559e",
   "metadata": {},
   "source": [
    "<hr>\n",
    "<h3 style=\"color:red\">DESAFIO 64</h3>\n",
    "\n",
    "Crie um programa que leia vários números inteiros pelo teclado. O programa só vai parar quando o usuário digitar o valor 999, que é a condição de parada. No final, mostre quantos números foram digitados e qual foi a soma entre eles (desconsiderando o flag)."
   ]
  },
  {
   "cell_type": "code",
   "execution_count": 37,
   "id": "948789f5",
   "metadata": {},
   "outputs": [
    {
     "name": "stdout",
     "output_type": "stream",
     "text": [
      "Digite um número [999 para parar]: 0\n",
      "Digite um número [999 para parar]: 1\n",
      "Digite um número [999 para parar]: 2\n",
      "Digite um número [999 para parar]: 4\n",
      "Digite um número [999 para parar]: 999\n",
      "Você digitou 4 números e a soma entre eles foi 7.\n"
     ]
    }
   ],
   "source": [
    "num = 0\n",
    "s = 0\n",
    "c = 0\n",
    "\n",
    "while(num != 999):\n",
    "    num = int(input('Digite um número [999 para parar]: '))\n",
    "    \n",
    "    if(num != 999):\n",
    "        s = s + num\n",
    "        c = c + 1\n",
    "print(f'Você digitou {c} números e a soma entre eles foi {s}.')"
   ]
  },
  {
   "cell_type": "markdown",
   "id": "57f636e6",
   "metadata": {},
   "source": [
    "<hr>\n",
    "<h3 style=\"color:red\">DESAFIO 65</h3>\n",
    "\n",
    "Crie um programa que leia vários números inteiros pelo teclado. No final da execução, mostre a média entre todos os valores e qual foi o maior e o menor valores lidos. O programa deve perguntar ao usuário se ele quer ou não continuar a digitar valores."
   ]
  },
  {
   "cell_type": "code",
   "execution_count": 3,
   "id": "1bf63688",
   "metadata": {},
   "outputs": [
    {
     "name": "stdout",
     "output_type": "stream",
     "text": [
      "Digite um número: 4\n",
      "Quer continuar? [S/N] s\n",
      "Digite um número: 2\n",
      "Quer continuar? [S/N] s\n",
      "Digite um número: 8\n",
      "Quer continuar? [S/N] s\n",
      "Digite um número: 9\n",
      "Quer continuar? [S/N] n\n",
      "Você digitou 4 números e a média foi 5.75\n",
      "O maior valor foi 9 e o menor foi 2\n"
     ]
    }
   ],
   "source": [
    "r = 'Ss'\n",
    "cont = 0\n",
    "soma = 0\n",
    "maior = menor = 0\n",
    "while(r in 'Ss'):\n",
    "    num = int(input('Digite um número: '))\n",
    "    soma = soma + num\n",
    "    cont = cont + 1\n",
    "    \n",
    "    if(cont==1):\n",
    "        menor = maior = num\n",
    "    \n",
    "    else:\n",
    "        if(num < menor):\n",
    "            menor = num\n",
    "        if(num > maior):\n",
    "            maior = num\n",
    "        \n",
    "    r = input('Quer continuar? [S/N] ').strip().upper()[0]\n",
    "media = soma / cont\n",
    "\n",
    "print(f'Você digitou {cont} números e a média foi {media}')\n",
    "print(f'O maior valor foi {maior} e o menor foi {menor}')"
   ]
  },
  {
   "cell_type": "markdown",
   "id": "c8942b95",
   "metadata": {},
   "source": [
    "<hr>"
   ]
  },
  {
   "cell_type": "markdown",
   "id": "9318c8e0",
   "metadata": {},
   "source": [
    "### Interrompendo repetições While"
   ]
  },
  {
   "cell_type": "code",
   "execution_count": 115,
   "id": "5e8ff05c",
   "metadata": {},
   "outputs": [
    {
     "name": "stdout",
     "output_type": "stream",
     "text": [
      "Digite um número: 1\n",
      "Digite um número: 2\n",
      "Digite um número: 3\n",
      "Digite um número: 4\n",
      "Digite um número: 999\n",
      "A soma vale 10\n"
     ]
    }
   ],
   "source": [
    "n = s = 0\n",
    "\n",
    "while True:\n",
    "    n = int(input('Digite um número: '))\n",
    "    if(n == 999):\n",
    "        break\n",
    "    s = s + n\n",
    "print(f'A soma vale {s}')"
   ]
  },
  {
   "cell_type": "markdown",
   "id": "2f559a5b",
   "metadata": {},
   "source": [
    "<hr>\n",
    "<h3 style=\"color:red\">DESAFIO 66</h3>\n",
    "\n",
    "Crie um programa que leia números inteiros pelo teclado. O programa só vai parar quando o usuário digitar o valor 999, que é a condição de parada. No final, mostre quantos números foram digitados e qual foi a soma entre elas (desconsiderando o flag)."
   ]
  },
  {
   "cell_type": "code",
   "execution_count": 5,
   "id": "ed1ce049",
   "metadata": {},
   "outputs": [
    {
     "name": "stdout",
     "output_type": "stream",
     "text": [
      "Digite um valor (999 para parar): 3\n",
      "Digite um valor (999 para parar): 8\n",
      "Digite um valor (999 para parar): 1\n",
      "Digite um valor (999 para parar): 7\n",
      "Digite um valor (999 para parar): 999\n",
      "A soma dos 4 valores foi 19!\n"
     ]
    }
   ],
   "source": [
    "soma = cont = 0\n",
    "while True:\n",
    "    num = int(input('Digite um valor (999 para parar): '))\n",
    "    if(num == 999):\n",
    "        break\n",
    "    soma = soma + num\n",
    "    cont = cont + 1\n",
    "\n",
    "print(f'A soma dos {cont} valores foi {soma}!')"
   ]
  },
  {
   "cell_type": "markdown",
   "id": "d288047e",
   "metadata": {},
   "source": [
    "<hr>\n",
    "<h3 style=\"color:red\">DESAFIO 67</h3>\n",
    "\n",
    "Faça um programa que mostre a tabuada de vários números, um de cada vez, para cada valor digitado pelo usuário. O programa será interrompido quando o número solicitado for negativo."
   ]
  },
  {
   "cell_type": "code",
   "execution_count": 8,
   "id": "c3b31c04",
   "metadata": {},
   "outputs": [
    {
     "name": "stdout",
     "output_type": "stream",
     "text": [
      "Quer ver a tabuada de qual valor? 8\n",
      "==============================\n",
      "8 x 1 = 8\n",
      "8 x 2 = 16\n",
      "8 x 3 = 24\n",
      "8 x 4 = 32\n",
      "8 x 5 = 40\n",
      "8 x 6 = 48\n",
      "8 x 7 = 56\n",
      "8 x 8 = 64\n",
      "8 x 9 = 72\n",
      "8 x 10 = 80\n",
      "==============================\n",
      "Quer ver a tabuada de qual valor? 1\n",
      "==============================\n",
      "1 x 1 = 1\n",
      "1 x 2 = 2\n",
      "1 x 3 = 3\n",
      "1 x 4 = 4\n",
      "1 x 5 = 5\n",
      "1 x 6 = 6\n",
      "1 x 7 = 7\n",
      "1 x 8 = 8\n",
      "1 x 9 = 9\n",
      "1 x 10 = 10\n",
      "==============================\n",
      "Quer ver a tabuada de qual valor? 10\n",
      "==============================\n",
      "10 x 1 = 10\n",
      "10 x 2 = 20\n",
      "10 x 3 = 30\n",
      "10 x 4 = 40\n",
      "10 x 5 = 50\n",
      "10 x 6 = 60\n",
      "10 x 7 = 70\n",
      "10 x 8 = 80\n",
      "10 x 9 = 90\n",
      "10 x 10 = 100\n",
      "==============================\n",
      "Quer ver a tabuada de qual valor? 987\n",
      "==============================\n",
      "987 x 1 = 987\n",
      "987 x 2 = 1974\n",
      "987 x 3 = 2961\n",
      "987 x 4 = 3948\n",
      "987 x 5 = 4935\n",
      "987 x 6 = 5922\n",
      "987 x 7 = 6909\n",
      "987 x 8 = 7896\n",
      "987 x 9 = 8883\n",
      "987 x 10 = 9870\n",
      "==============================\n",
      "Quer ver a tabuada de qual valor? -9\n",
      "PROGRAMA DE TABUADA ENCERRADO. Volte sempre!\n"
     ]
    }
   ],
   "source": [
    "while True:\n",
    "    tab = int(input('Quer ver a tabuada de qual valor? '))\n",
    "    if(tab < 0):\n",
    "        print('PROGRAMA DE TABUADA ENCERRADO. Volte sempre!')\n",
    "        break\n",
    "    print('='*30)\n",
    "    for i in range(1,11):\n",
    "        print(f'{tab} x {i} = {tab*i}')\n",
    "    print('='*30)"
   ]
  },
  {
   "cell_type": "markdown",
   "id": "ab11e1e0",
   "metadata": {},
   "source": [
    "<hr>\n",
    "<h3 style=\"color:red\">DESAFIO 68</h3>\n",
    "\n",
    "Faça um programa que jogue par ou ímpar com o computador. O jogo só será interrompido quando o jogador perder, mostrando o total de vitórias consecutivas que ele conquistou no final do jogo."
   ]
  },
  {
   "cell_type": "code",
   "execution_count": 13,
   "id": "1103d1c9",
   "metadata": {},
   "outputs": [
    {
     "name": "stdout",
     "output_type": "stream",
     "text": [
      "=-=-=-=-=-=-=-=-=-=-=-=-=-=-=-\n",
      "VAMOS JOGAR PAR OU ÍMPAR\n",
      "=-=-=-=-=-=-=-=-=-=-=-=-=-=-=-\n",
      "Digite um valor: 6\n",
      "Par ou Ímpar? [P/I] p\n",
      "Você jogou 6 e o computador 10.\n",
      "Total de 16 DEU PAR\n",
      "Você VENCEU!\n",
      "Digite um valor: 7\n",
      "Par ou Ímpar? [P/I] p\n",
      "Você jogou 7 e o computador 5.\n",
      "Total de 12 DEU PAR\n",
      "Você VENCEU!\n",
      "Digite um valor: 3\n",
      "Par ou Ímpar? [P/I] i\n",
      "Você jogou 3 e o computador 8.\n",
      "Total de 11 DEU ÍMPAR\n",
      "Você VENCEU!\n",
      "Digite um valor: 2\n",
      "Par ou Ímpar? [P/I] p\n",
      "Você jogou 2 e o computador 10.\n",
      "Total de 12 DEU PAR\n",
      "Você VENCEU!\n",
      "Digite um valor: 1\n",
      "Par ou Ímpar? [P/I] i\n",
      "Você jogou 1 e o computador 10.\n",
      "Total de 11 DEU ÍMPAR\n",
      "Você VENCEU!\n",
      "Digite um valor: 3\n",
      "Par ou Ímpar? [P/I] i\n",
      "Você jogou 3 e o computador 2.\n",
      "Total de 5 DEU ÍMPAR\n",
      "Você VENCEU!\n",
      "Digite um valor: 1\n",
      "Par ou Ímpar? [P/I] p\n",
      "Você jogou 1 e o computador 0.\n",
      "Total de 1 DEU ÍMPAR\n",
      "Você PERDER!\n",
      "GAME OVER! Você venceu 6 vezes.\n"
     ]
    }
   ],
   "source": [
    "import random\n",
    "\n",
    "print('=-'*15)\n",
    "print('VAMOS JOGAR PAR OU ÍMPAR')\n",
    "print('=-'*15)\n",
    "\n",
    "v = 0\n",
    "\n",
    "while True:\n",
    "    \n",
    "    joga = int(input('Digite um valor: '))\n",
    "    comp = random.randint(0,10)\n",
    "    \n",
    "    soma = joga + comp\n",
    "    escolha = ' '\n",
    "    \n",
    "    while escolha not in 'PpIi':\n",
    "        \n",
    "        escolha = input('Par ou Ímpar? [P/I] ').upper().strip()[0]\n",
    "\n",
    "    print(f'Você jogou {joga} e o computador {comp}.')\n",
    "    \n",
    "\n",
    "    if(soma % 2 == 0):\n",
    "        print(f'Total de {soma} DEU PAR')\n",
    "    \n",
    "        if(escolha == 'P'):\n",
    "            print('Você VENCEU!')\n",
    "            v = v + 1\n",
    "        else:\n",
    "            print('Você PERDEU!')\n",
    "            break\n",
    "    else:\n",
    "        print(f'Total de {soma} DEU ÍMPAR')\n",
    "    \n",
    "        if(escolha == 'I'):\n",
    "            print('Você VENCEU!')\n",
    "            v = v + 1\n",
    "        else:\n",
    "            print('Você PERDER!')\n",
    "            break\n",
    "print(f'GAME OVER! Você venceu {v} vezes.')"
   ]
  },
  {
   "cell_type": "code",
   "execution_count": 16,
   "id": "cf53083d",
   "metadata": {},
   "outputs": [
    {
     "name": "stdout",
     "output_type": "stream",
     "text": [
      "=-=-=-=-=-=-=-=-=-=-=-=-=-=-=-\n",
      "VAMOS JOGAR PAR OU ÍMPAR\n",
      "=-=-=-=-=-=-=-=-=-=-=-=-=-=-=-\n",
      "Digite um valor: 1\n",
      "Par ou Ímpar? [P/I] i\n",
      "==============================\n",
      "Você jogou 1 e o computador 10.\n",
      "Total de 11 DEU ÍMPAR\n",
      "Você VENCEU!\n",
      "Vamos jogar novamente...\n",
      "Digite um valor: 1\n",
      "Par ou Ímpar? [P/I] i\n",
      "==============================\n",
      "Você jogou 1 e o computador 9.\n",
      "Total de 10 DEU PAR\n",
      "Você PERDEU!\n",
      "GAME OVER! Você venceu 1 vezes.\n"
     ]
    }
   ],
   "source": [
    "import random\n",
    "\n",
    "print('=-'*15)\n",
    "print('VAMOS JOGAR PAR OU ÍMPAR')\n",
    "print('=-'*15)\n",
    "\n",
    "v = 0\n",
    "\n",
    "while True:\n",
    "    \n",
    "    joga = int(input('Digite um valor: '))\n",
    "    comp = random.randint(0,10)\n",
    "    \n",
    "    soma = joga + comp\n",
    "    escolha = ' '\n",
    "    \n",
    "    while escolha not in 'PpIi':\n",
    "        \n",
    "        escolha = input('Par ou Ímpar? [P/I] ').upper().strip()[0]\n",
    "    \n",
    "    print('='*30)\n",
    "    print(f'Você jogou {joga} e o computador {comp}.')\n",
    "    \n",
    "\n",
    "    if(soma % 2 == 0):\n",
    "        print(f'Total de {soma} DEU PAR')\n",
    "    \n",
    "        if(escolha == 'P'):\n",
    "            print('Você VENCEU!')\n",
    "            v = v + 1\n",
    "        else:\n",
    "            print('Você PERDEU!')\n",
    "            break\n",
    "    else:\n",
    "        print(f'Total de {soma} DEU ÍMPAR')\n",
    "    \n",
    "        if(escolha == 'I'):\n",
    "            print('Você VENCEU!')\n",
    "            v = v + 1\n",
    "        else:\n",
    "            print('Você PERDER!')\n",
    "            break\n",
    "    print('Vamos jogar novamente...')\n",
    "print(f'GAME OVER! Você venceu {v} vezes.')"
   ]
  },
  {
   "cell_type": "markdown",
   "id": "9520a5e8",
   "metadata": {},
   "source": [
    "<hr>\n",
    "<h3 style=\"color:red\">DESAFIO 69</h3>\n",
    "\n",
    "Crie um programa que leia a idade e o sexo de várias pessoas. A cada pessoa cadastrada, o programa deverá perguntar se o usuário quer ou não continuar. No final, mostre:\n",
    "\n",
    "A) quantas pessoas tem mais de 18 anos.\n",
    "\n",
    "B) quantos homens foram cadastrados.\n",
    "\n",
    "C) quantas mulheres tem menos de 20 anos."
   ]
  },
  {
   "cell_type": "code",
   "execution_count": 18,
   "id": "402e484b",
   "metadata": {},
   "outputs": [
    {
     "name": "stdout",
     "output_type": "stream",
     "text": [
      "==============================\n",
      "CADASTRE UMA PESSOA\n",
      "==============================\n",
      "Idade: 22\n",
      "Sexo: [M/F] m\n",
      "Quer continuar? [S/N] s\n",
      "==============================\n",
      "CADASTRE UMA PESSOA\n",
      "==============================\n",
      "Idade: 85\n",
      "Sexo: [M/F] f\n",
      "Quer continuar? [S/N] s\n",
      "==============================\n",
      "CADASTRE UMA PESSOA\n",
      "==============================\n",
      "Idade: 12\n",
      "Sexo: [M/F] f\n",
      "Quer continuar? [S/N] n\n",
      "Total de pessoas com mais de 18 anos: 2\n",
      "Ao todo temos 1 homens cadastrados\n",
      "E temos 1 mulheres com menos de 20 anos\n"
     ]
    }
   ],
   "source": [
    "r = 'Ss'\n",
    "mais_18 = 0\n",
    "tot_homem = 0\n",
    "mulher_menos_20 = 0\n",
    "\n",
    "while(r in 'Ss'):\n",
    "    print('='*30)\n",
    "    print('CADASTRE UMA PESSOA')\n",
    "    print('='*30)\n",
    "    idade = int(input('Idade: '))\n",
    "    sexo = input('Sexo: [M/F] ').strip().upper()[0]\n",
    "    \n",
    "    if(idade > 18):\n",
    "        mais_18 = mais_18 + 1\n",
    "        \n",
    "    if(sexo == 'M'):\n",
    "        tot_homem = tot_homem + 1\n",
    "        \n",
    "    if(sexo == 'F' and idade < 20):\n",
    "        mulher_menos_20 = mulher_menos_20 + 1\n",
    "    \n",
    "    r = input('Quer continuar? [S/N] ').strip().upper()[0]\n",
    "    \n",
    "    if(r == 'N'):\n",
    "        break\n",
    "    \n",
    "print(f'Total de pessoas com mais de 18 anos: {mais_18}')\n",
    "print(f'Ao todo temos {tot_homem} homens cadastrados')\n",
    "print(f'E temos {mulher_menos_20} mulheres com menos de 20 anos')"
   ]
  },
  {
   "cell_type": "markdown",
   "id": "ae7dbd1c",
   "metadata": {},
   "source": [
    "<hr>\n",
    "<h3 style=\"color:red\">DESAFIO 70</h3>\n",
    "\n",
    "Crie um programa que leia o nome e o preço de vários produtos. O programa deverá perguntar se o usuário vai continuar ou não. No final, mostre:\n",
    "\n",
    "A) qual é o total gasto na compra.\n",
    "\n",
    "B) quantos produtos custam mais de R$1000.\n",
    "\n",
    "C) qual é o nome do produto mais barato. "
   ]
  },
  {
   "cell_type": "code",
   "execution_count": 35,
   "id": "7925d809",
   "metadata": {},
   "outputs": [
    {
     "name": "stdout",
     "output_type": "stream",
     "text": [
      "==============================\n",
      "LOJA SUPER BARATÃO\n",
      "==============================\n",
      "Nome do Produto: Lapiseira\n",
      "Preço: R$6\n",
      "Quer continuar? [S/N] s\n",
      "Nome do Produto: Caderno\n",
      "Preço: R$25\n",
      "Quer continuar? [S/N] s\n",
      "Nome do Produto: Computador\n",
      "Preço: R$12000\n",
      "Quer continuar? [S/N] s\n",
      "Nome do Produto: Impressora\n",
      "Preço: R$750\n",
      "Quer continuar? [S/N] n\n",
      "=============== FIM DO PROGRAMA =============== \n",
      "O total da compra foi R$12781.0\n",
      "Temos 1 produtos custando mais de R$1000.00\n",
      "O produto mais barato foi Lapiseira que custa R$6.0\n"
     ]
    }
   ],
   "source": [
    "r = 'Ss'\n",
    "tot_compra = 0\n",
    "prod_mais_mil = 0\n",
    "mais_barato = 0\n",
    "prod_mais_barato = ' '\n",
    "cont = 0\n",
    "\n",
    "print('='*30)\n",
    "print('LOJA SUPER BARATÃO')\n",
    "print('='*30)\n",
    "\n",
    "while(r in 'Ss'):\n",
    "\n",
    "    prod = input('Nome do Produto: ')\n",
    "    preco = float(input('Preço: R$'))\n",
    "    \n",
    "    cont = cont + 1\n",
    "    tot_compra = tot_compra + preco\n",
    "    \n",
    "    if(preco > 1000):\n",
    "        prod_mais_mil = prod_mais_mil + 1\n",
    "    \n",
    "    if(cont == 1):\n",
    "        mais_barato = preco\n",
    "        prod_mais_barato = prod\n",
    "        \n",
    "    else:\n",
    "        if(preco < mais_barato):\n",
    "            mais_barato = preco\n",
    "            prod_mais_barato = prod\n",
    "\n",
    "    \n",
    "    r = input('Quer continuar? [S/N] ').strip().upper()[0]\n",
    "    \n",
    "    if(r == 'N'):\n",
    "        print('='*15, end=' ')\n",
    "        print('FIM DO PROGRAMA',end=' ')\n",
    "        print('='*15, end=' ')\n",
    "        break\n",
    "        \n",
    "print(f'\\nO total da compra foi R${tot_compra}')\n",
    "print(f'Temos {prod_mais_mil} produtos custando mais de R$1000.00')\n",
    "print(f'O produto mais barato foi {prod_mais_barato} que custa R${mais_barato}')"
   ]
  },
  {
   "cell_type": "markdown",
   "id": "39f091df",
   "metadata": {},
   "source": [
    "#### Outra maneira de fazer o DESAFIO 70"
   ]
  },
  {
   "cell_type": "code",
   "execution_count": 34,
   "id": "fa7481a4",
   "metadata": {},
   "outputs": [
    {
     "name": "stdout",
     "output_type": "stream",
     "text": [
      "==============================\n",
      "LOJA SUPER BARATÃO\n",
      "==============================\n",
      "Nome do Produto: Lapiseira\n",
      "Preço: R$6\n",
      "Quer continuar? [S/N] s\n",
      "Nome do Produto: Caderno\n",
      "Preço: R$25\n",
      "Quer continuar? [S/N] s\n",
      "Nome do Produto: Computador\n",
      "Preço: R$12000\n",
      "Quer continuar? [S/N] s\n",
      "Nome do Produto: Impressora\n",
      "Preço: R$750\n",
      "Quer continuar? [S/N] n\n",
      "----------- FIM DO PROGRAMA ------------\n",
      "\n",
      "O total da compra foi R$12781.00\n",
      "Temos 1 produtos custando mais de R$1000.00\n",
      "O produto mais barato foi Lapiseira que custa R$6.0\n"
     ]
    }
   ],
   "source": [
    "tot_compra = 0\n",
    "prod_mais_mil = 0\n",
    "mais_barato = 0\n",
    "cont = 0\n",
    "prod_mais_barato = ' '\n",
    "\n",
    "\n",
    "print('='*30)\n",
    "print('LOJA SUPER BARATÃO')\n",
    "print('='*30)\n",
    "\n",
    "while True:\n",
    "    prod = str(input('Nome do Produto: '))\n",
    "    preco = float(input('Preço: R$'))\n",
    "    \n",
    "    cont = cont + 1\n",
    "    tot_compra = tot_compra + preco\n",
    "    \n",
    "    if(preco > 1000):\n",
    "        prod_mais_mil = prod_mais_mil + 1\n",
    "        \n",
    "    if(cont == 1):\n",
    "        mais_barato = preco\n",
    "        prod_mais_barato = prod\n",
    "    \n",
    "    else:\n",
    "        if(preco < mais_barato):\n",
    "            mais_barato = preco\n",
    "            prod_mais_barato = prod\n",
    "\n",
    "    r = ' '\n",
    "\n",
    "    while(r not in 'SN'):\n",
    "        \n",
    "        r = input('Quer continuar? [S/N] ').strip().upper()[0]\n",
    "        \n",
    "    if(r == 'N'):\n",
    "        print(f\"{' FIM DO PROGRAMA ':-^40}\")\n",
    "        break\n",
    "        \n",
    "print(f'\\nO total da compra foi R${tot_compra:.2f}')\n",
    "print(f'Temos {prod_mais_mil} produtos custando mais de R$1000.00')\n",
    "print(f'O produto mais barato foi {prod_mais_barato} que custa R${mais_barato}')"
   ]
  },
  {
   "cell_type": "markdown",
   "id": "24bf5599",
   "metadata": {},
   "source": [
    "<hr>\n",
    "<h3 style=\"color:red\">DESAFIO 71</h3>\n",
    "\n",
    " Crie um programa que simule o funcionamento de um caixa eletrônico. No início, pergunte ao usuário qual será o valor a ser sacado (número inteiro) e o programa vai informar quantas cédulas de cada valor serão entregues.\n",
    "OBS: considere que o caixa possui cédulas de RS50, RS20, RS10 e RS1."
   ]
  },
  {
   "cell_type": "code",
   "execution_count": 22,
   "id": "4886909c",
   "metadata": {},
   "outputs": [
    {
     "name": "stdout",
     "output_type": "stream",
     "text": [
      "==============================\n",
      "          BANCO CEV           \n",
      "==============================\n",
      "Que valor você quer sacar? R$163\n",
      "Total de 3 cédulas de R$50\n",
      "Total de 1 cédulas de R$10\n",
      "Total de 3 cédulas de R$1\n",
      "==============================\n",
      "Volte sempre ao BANCO CEV! Tenha um bom dia!\n"
     ]
    }
   ],
   "source": [
    "print('='*30)\n",
    "print(f'{\"BANCO CEV\":^30}')\n",
    "print('='*30)\n",
    "\n",
    "valor = int(input('Que valor você quer sacar? R$'))\n",
    "\n",
    "tot = valor\n",
    "ced = 50\n",
    "tot_ced = 0\n",
    "\n",
    "while True:\n",
    "    if tot >= ced:\n",
    "        tot = tot - ced\n",
    "        tot_ced = tot_ced + 1\n",
    "    else:\n",
    "        if(tot_ced > 0):\n",
    "            print(f'Total de {tot_ced} cédulas de R${ced}')\n",
    "        if(ced == 50):\n",
    "            ced = 20\n",
    "        elif(ced == 20):\n",
    "            ced = 10\n",
    "        elif(ced == 10):\n",
    "            ced = 1\n",
    "        tot_ced = 0\n",
    "        if(tot == 0):\n",
    "            break\n",
    "            \n",
    "print('='*30)\n",
    "print('Volte sempre ao BANCO CEV! Tenha um bom dia!')"
   ]
  },
  {
   "cell_type": "markdown",
   "id": "cc577faf",
   "metadata": {},
   "source": [
    "<hr>"
   ]
  }
 ],
 "metadata": {
  "kernelspec": {
   "display_name": "Python 3 (ipykernel)",
   "language": "python",
   "name": "python3"
  },
  "language_info": {
   "codemirror_mode": {
    "name": "ipython",
    "version": 3
   },
   "file_extension": ".py",
   "mimetype": "text/x-python",
   "name": "python",
   "nbconvert_exporter": "python",
   "pygments_lexer": "ipython3",
   "version": "3.9.12"
  }
 },
 "nbformat": 4,
 "nbformat_minor": 5
}
