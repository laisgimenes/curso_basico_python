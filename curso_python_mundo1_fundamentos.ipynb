{
 "cells": [
  {
   "cell_type": "markdown",
   "id": "450bf27e",
   "metadata": {},
   "source": [
    "### Primeiros Comandos no Python"
   ]
  },
  {
   "cell_type": "code",
   "execution_count": 1,
   "id": "eb14acf0",
   "metadata": {},
   "outputs": [
    {
     "name": "stdout",
     "output_type": "stream",
     "text": [
      "Olá, Mundo!\n"
     ]
    }
   ],
   "source": [
    "print('Olá, Mundo!')"
   ]
  },
  {
   "cell_type": "code",
   "execution_count": 2,
   "id": "c7120152",
   "metadata": {},
   "outputs": [
    {
     "name": "stdout",
     "output_type": "stream",
     "text": [
      "11\n"
     ]
    }
   ],
   "source": [
    "print(7+4)"
   ]
  },
  {
   "cell_type": "code",
   "execution_count": 3,
   "id": "cd9e309a",
   "metadata": {},
   "outputs": [
    {
     "name": "stdout",
     "output_type": "stream",
     "text": [
      "74\n"
     ]
    }
   ],
   "source": [
    "print('7'+'4')"
   ]
  },
  {
   "cell_type": "code",
   "execution_count": 4,
   "id": "767e50ed",
   "metadata": {},
   "outputs": [
    {
     "name": "stdout",
     "output_type": "stream",
     "text": [
      "Olá 7\n"
     ]
    }
   ],
   "source": [
    "print('Olá',7)"
   ]
  },
  {
   "cell_type": "markdown",
   "id": "7ae0b59f",
   "metadata": {},
   "source": [
    "### Utilizando Variáveis"
   ]
  },
  {
   "cell_type": "markdown",
   "id": "4466cf9b",
   "metadata": {},
   "source": [
    "Toda **variável** é um **objeto** para o Python."
   ]
  },
  {
   "cell_type": "code",
   "execution_count": 5,
   "id": "6a72b6fb",
   "metadata": {},
   "outputs": [
    {
     "name": "stdout",
     "output_type": "stream",
     "text": [
      "Maria 18 50.5\n"
     ]
    }
   ],
   "source": [
    "nome = 'Maria'\n",
    "idade = 18\n",
    "peso = 50.5\n",
    "\n",
    "print(nome, idade, peso)"
   ]
  },
  {
   "cell_type": "markdown",
   "id": "db70ae6b",
   "metadata": {},
   "source": [
    "### Entrada de Dados"
   ]
  },
  {
   "cell_type": "code",
   "execution_count": 6,
   "id": "cb28bdc5",
   "metadata": {},
   "outputs": [
    {
     "name": "stdout",
     "output_type": "stream",
     "text": [
      "Qual é o seu nome? Juvenal\n",
      "Qual é sua idade? 22\n",
      "Quanto você pesa? 44.5\n"
     ]
    }
   ],
   "source": [
    "nome = input('Qual é o seu nome? ')\n",
    "idade = input('Qual é sua idade? ')\n",
    "peso = input('Quanto você pesa? ')"
   ]
  },
  {
   "cell_type": "code",
   "execution_count": 7,
   "id": "5c140098",
   "metadata": {},
   "outputs": [
    {
     "name": "stdout",
     "output_type": "stream",
     "text": [
      "Juvenal 22 44.5\n"
     ]
    }
   ],
   "source": [
    "print(nome, idade, peso)"
   ]
  },
  {
   "cell_type": "markdown",
   "id": "32931eb6",
   "metadata": {},
   "source": [
    "<hr>\n",
    "<h3 style=\"color:red\">DESAFIO 1</h3>\n",
    "\n",
    "Crie um script Python que leia o nome de uma pessoa e mostre uma mensagem de boas-vindas de acordo com o valor digitado."
   ]
  },
  {
   "cell_type": "code",
   "execution_count": 8,
   "id": "3259ab47",
   "metadata": {},
   "outputs": [
    {
     "name": "stdout",
     "output_type": "stream",
     "text": [
      "Qual é o seu nome? Fabiana\n",
      "Olá Fabiana ! Prazer em te conhecer!\n"
     ]
    }
   ],
   "source": [
    "nome = input('Qual é o seu nome? ')\n",
    "print('Olá',nome,'! Prazer em te conhecer!')"
   ]
  },
  {
   "cell_type": "markdown",
   "id": "b4dc254b",
   "metadata": {},
   "source": [
    "<hr>\n",
    "<h3 style=\"color:red\">DESAFIO 2</h3>\n",
    "\n",
    "Crie um script Python que leia o dia, mês e o ano de nascimento de uma pessoa e mostre uma mensagem com a data formatada."
   ]
  },
  {
   "cell_type": "code",
   "execution_count": 9,
   "id": "b1248b5a",
   "metadata": {},
   "outputs": [
    {
     "name": "stdout",
     "output_type": "stream",
     "text": [
      "Qual dia do seu nascimento? 22\n",
      "Qual o mês do seu nascimento? Abril\n",
      "Qual o ano do seu nascimento? 1996\n",
      "Você nasceu no dia 22 de Abril de 1996 .Correto?\n"
     ]
    }
   ],
   "source": [
    "dia = input('Qual dia do seu nascimento? ')\n",
    "mes = input('Qual o mês do seu nascimento? ')\n",
    "ano = input('Qual o ano do seu nascimento? ')\n",
    "\n",
    "print('Você nasceu no dia',dia,'de',mes,'de',ano,'.Correto?')"
   ]
  },
  {
   "cell_type": "markdown",
   "id": "fad64e7f",
   "metadata": {},
   "source": [
    "<hr>"
   ]
  },
  {
   "cell_type": "markdown",
   "id": "2de1a397",
   "metadata": {},
   "source": [
    "<h3 style=\"color:red\">DESAFIO 3</h3>\n",
    "\n",
    "Crie um script Python que leia dois números e tente mostrar a soma entre eles."
   ]
  },
  {
   "cell_type": "code",
   "execution_count": 10,
   "id": "807f2ef4",
   "metadata": {},
   "outputs": [
    {
     "name": "stdout",
     "output_type": "stream",
     "text": [
      "Primeiro Número: 6\n",
      "Segundo Número: 3\n",
      "A soma é 63\n"
     ]
    }
   ],
   "source": [
    "num1 = input('Primeiro Número: ')\n",
    "num2 = input('Segundo Número: ')\n",
    "\n",
    "# Como deveria utilizar somentes conceitos aprendidos até a aula\n",
    "# 4 a resposta para o desafio está errada, aqui somente concatenou\n",
    "# os dois valores.\n",
    "\n",
    "print('A soma é',num1+num2)"
   ]
  },
  {
   "cell_type": "markdown",
   "id": "556c0087",
   "metadata": {},
   "source": [
    "<hr>"
   ]
  },
  {
   "cell_type": "markdown",
   "id": "626c0d74",
   "metadata": {},
   "source": [
    "### Tipos Primitivos"
   ]
  },
  {
   "cell_type": "markdown",
   "id": "59d1af61",
   "metadata": {},
   "source": [
    "Tipos de Dados no Python:\n",
    "\n",
    "* Text Type: <code style=\"color:green\">str</code>\n",
    "* Numeric Types: <code style=\"color:green\">int</code>, <code style=\"color:green\">float</code>, <code style=\"color:green\">complex</code>\n",
    "* Sequence Types: <code style=\"color:green\">list</code>, <code style=\"color:green\">tuple</code>, <code style=\"color:green\">range</code>\n",
    "* Mapping Type: <code style=\"color:green\">dict</code>\n",
    "* Set Types: <code style=\"color:green\">set</code>, <code style=\"color:green\">frozenset</code>\n",
    "* Boolean Type: <code style=\"color:green\">bool</code>\n",
    "* Binary Types: <code style=\"color:green\">bytes</code>, <code style=\"color:green\">bytearray</code>, <code style=\"color:green\">memoryview</code>\n",
    "* None Type: <code style=\"color:green\">NoneType</code>"
   ]
  },
  {
   "cell_type": "markdown",
   "id": "4b7d4cdf",
   "metadata": {},
   "source": [
    "O valor digitado dentro do comando `input()`, mesmo que for um valor numérico é sempre considerado como string. Para resolver devemos colocar o comando `int` antes do `input`."
   ]
  },
  {
   "cell_type": "markdown",
   "id": "f4d7f71f",
   "metadata": {},
   "source": [
    "Alguns exemplos de tipos primitivos no Python:\n",
    "\n",
    "- int: 7, -4, 0, 9875 \n",
    "- float: 4.5, 0.076, -15.223, 7.0\n",
    "- bool: True, False\n",
    "- str: 'Ola!', '7.5', ' '"
   ]
  },
  {
   "cell_type": "markdown",
   "id": "6de70b05",
   "metadata": {},
   "source": [
    "### Tipo de Dados"
   ]
  },
  {
   "cell_type": "code",
   "execution_count": 12,
   "id": "84625e6c",
   "metadata": {},
   "outputs": [
    {
     "name": "stdout",
     "output_type": "stream",
     "text": [
      "<class 'int'>\n",
      "<class 'float'>\n",
      "<class 'bool'>\n",
      "<class 'str'>\n"
     ]
    }
   ],
   "source": [
    "valor1 = 7\n",
    "valor2 = 4.5\n",
    "valor3 = True\n",
    "valor4 = 'Olá!'\n",
    "\n",
    "print(type(valor1))\n",
    "print(type(valor2))\n",
    "print(type(valor3))\n",
    "print(type(valor4))"
   ]
  },
  {
   "cell_type": "markdown",
   "id": "0bc6730d",
   "metadata": {},
   "source": [
    "#### Formas diferentes de escrever na tela, com o print:"
   ]
  },
  {
   "cell_type": "code",
   "execution_count": 11,
   "id": "3263d163",
   "metadata": {},
   "outputs": [
    {
     "name": "stdout",
     "output_type": "stream",
     "text": [
      "A soma vale 4\n",
      "A soma vale 4\n",
      "A soma vale 4\n"
     ]
    }
   ],
   "source": [
    "s = 4\n",
    "print('A soma vale', s)\n",
    "print('A soma vale {}'.format(s)) # sintaxe a partir do Python 3\n",
    "print(f'A soma vale {s}')"
   ]
  },
  {
   "cell_type": "markdown",
   "id": "fbabb1a9",
   "metadata": {},
   "source": [
    "<hr>"
   ]
  },
  {
   "cell_type": "markdown",
   "id": "662983c7",
   "metadata": {},
   "source": [
    "<h3 style=\"color:red\">DESAFIO 3</h3>\n",
    "\n",
    "Crie um script Python que leia dois números e tente mostrar a soma entre eles."
   ]
  },
  {
   "cell_type": "code",
   "execution_count": 14,
   "id": "3bfc17cc",
   "metadata": {},
   "outputs": [
    {
     "name": "stdout",
     "output_type": "stream",
     "text": [
      "Primeiro Número: 4\n",
      "Segundo Número: 2\n",
      "A soma é 6\n"
     ]
    }
   ],
   "source": [
    "num1 = int(input('Primeiro Número: '))\n",
    "num2 = int(input('Segundo Número: '))\n",
    "\n",
    "print('A soma é {}'.format(num1+num2))"
   ]
  },
  {
   "cell_type": "markdown",
   "id": "7a50bf29",
   "metadata": {},
   "source": [
    "<hr>\n",
    "\n",
    "<h3 style=\"color:red\">DESAFIO 4</h3>\n",
    "\n",
    "Faça um programa que leia algo pelo teclado e mostre na tela o seu tipo primitivo e todas as informações possíveis sobre ele."
   ]
  },
  {
   "cell_type": "code",
   "execution_count": 15,
   "id": "271b6418",
   "metadata": {},
   "outputs": [
    {
     "name": "stdout",
     "output_type": "stream",
     "text": [
      "Digite algo: Programadora\n",
      "O tipo primitivo desse valor é <class 'str'>\n",
      "Só tem espaços? False\n",
      "É um número? False\n",
      "É alfabético? True\n",
      "É alfanumérico? True\n",
      "Está em maiúsculas? False\n",
      "Está em minúsculas? False\n",
      "Está capitalizada? True\n"
     ]
    }
   ],
   "source": [
    "algo = input('Digite algo: ')\n",
    "\n",
    "print(f'O tipo primitivo desse valor é {type(algo)}')\n",
    "print(f'Só tem espaços? {algo.isspace()}')\n",
    "print(f'É um número? {algo.isnumeric()}')\n",
    "print(f'É alfabético? {algo.isalpha()}')\n",
    "print(f'É alfanumérico? {algo.isalnum()}')\n",
    "print(f'Está em maiúsculas? {algo.isupper()}')\n",
    "print(f'Está em minúsculas? {algo.islower()}')\n",
    "print(f'Está capitalizada? {algo.istitle()}')"
   ]
  },
  {
   "cell_type": "markdown",
   "id": "bef9e548",
   "metadata": {},
   "source": [
    "<hr>"
   ]
  },
  {
   "cell_type": "markdown",
   "id": "acd7d56a",
   "metadata": {},
   "source": [
    "### Operadores Aritméticos"
   ]
  },
  {
   "cell_type": "markdown",
   "id": "28456784",
   "metadata": {},
   "source": [
    "|Operador|Nome|Exemplo|Descrição|\n",
    "|:--------:|:----:|:-------:|:---------:|\n",
    "|+  |Adição|x + y|Retorna a soma entre valores|\n",
    "|-  | Subtração|x - y|Retorna a subtração entre valores|\n",
    "|*  |Multiplicação| x * y|Retorna a multiplicação entre valores | \n",
    "|/  |Divisão|x / y|Retorna a divisão entre valores|\n",
    "|%  |Módulo|x % y|Retorna o resto da divisão entre valores|\n",
    "|** |Potência|x ** y|Retorna a potência entre valores|\n",
    "|// |Divisão inteira| x // y|Retorna apenas o valor inteiro da divisão entre valores|"
   ]
  },
  {
   "cell_type": "markdown",
   "id": "4de7c46b",
   "metadata": {},
   "source": [
    "#### Exemplos:"
   ]
  },
  {
   "cell_type": "code",
   "execution_count": 16,
   "id": "c80cbf0a",
   "metadata": {},
   "outputs": [
    {
     "name": "stdout",
     "output_type": "stream",
     "text": [
      "7\n",
      "3\n",
      "10\n",
      "2.5\n",
      "25\n",
      "2\n",
      "1\n"
     ]
    }
   ],
   "source": [
    "print(5 + 2) # Resultado: 7\n",
    "print(5 - 2) # Resultado: 3\n",
    "print(5 * 2) # Resultado: 10\n",
    "print(5 / 2) # Resultado: 2.5\n",
    "print(5 ** 2) # Resultado: 25\n",
    "print(5 // 2) # Resultado: 2\n",
    "print(5 % 2) # Resultado: 1"
   ]
  },
  {
   "cell_type": "markdown",
   "id": "b8a69e03",
   "metadata": {},
   "source": [
    "### Ordem de Precedência\n",
    "\n",
    "1. `()`\n",
    "2. `**`\n",
    "3. `*` `/` `//` `%`\n",
    "4. `+` `-`"
   ]
  },
  {
   "cell_type": "code",
   "execution_count": 17,
   "id": "915e93eb",
   "metadata": {},
   "outputs": [
    {
     "name": "stdout",
     "output_type": "stream",
     "text": [
      "64\n",
      "64\n"
     ]
    }
   ],
   "source": [
    "# A potência podemos fazer assim:\n",
    "\n",
    "print(4**3)\n",
    "# ou\n",
    "print(pow(4,3))"
   ]
  },
  {
   "cell_type": "markdown",
   "id": "12f6352a",
   "metadata": {},
   "source": [
    "### Operadores de atribuição no Python"
   ]
  },
  {
   "cell_type": "markdown",
   "id": "35ed5599",
   "metadata": {},
   "source": [
    "|Operador|Exemplo|É igual a|\n",
    "|:--------:|:---------:|:-------:|\n",
    "| = | x = 5 | x = 5|\n",
    "| += | x += 3 | x = x + 3|\n",
    "| -= | x -= 3 | x = x - 3|\n",
    "| *= | x *= 3 | x = x * 3|\n",
    "| /= | x /= 3 | x = x / 3|\n",
    "| //= | x %= 3 | x = x % 3|\n",
    "| **= | x **= 3 | x = x ** 3|\n",
    "| &= | x &= 3 | x = x & 3|\n",
    "| $|$= | x $|$= 3 | x = x $|$ 3|\n",
    "| ^= | x^= 3 | x = x^3|\n",
    "| >>= | x >>= 3| x = x >> 3|\n",
    "| <<=| x <<= 3| x = x << 3|"
   ]
  },
  {
   "cell_type": "markdown",
   "id": "a91c861f",
   "metadata": {},
   "source": [
    "### Operações bit-a-bit em Python\n",
    "\n",
    "Todas as linguagens possuem operadores binários. Esse o peradores são: (`<<`, `>>`, `&`, `|`, `~`, e `^`). Eles são utilizados para trabalharmos com números, porém consideram esses números como um conjunto de strings de **zeros** e **uns**."
   ]
  },
  {
   "cell_type": "markdown",
   "id": "e2ac1e9b",
   "metadata": {},
   "source": [
    "|Operador|Nome|Exemplo|\n",
    "|:--------:|:---------:| :------:|\n",
    "| & | E |x & y|\n",
    "| $|$ | OU |x $|$ y|\n",
    "| ^ | OU EXCLUSIVO | x ^ y|\n",
    "| ~ | NÃO | ~x|\n",
    "| << | BITS DESLOCADOS PARA A ESQUERDA | x << 2|\n",
    "| >> | BITS DESLOCADOS PARA A DIREITA | x >> 2|\n"
   ]
  },
  {
   "cell_type": "markdown",
   "id": "8897d49a",
   "metadata": {},
   "source": [
    "<hr>\n",
    "\n",
    "<h3 style=\"color:blue\">EXEMPLOS</h3>"
   ]
  },
  {
   "cell_type": "code",
   "execution_count": null,
   "id": "e6e8f116",
   "metadata": {},
   "outputs": [],
   "source": []
  },
  {
   "cell_type": "code",
   "execution_count": null,
   "id": "671b37b9",
   "metadata": {},
   "outputs": [],
   "source": []
  },
  {
   "cell_type": "code",
   "execution_count": null,
   "id": "b46c6d1a",
   "metadata": {},
   "outputs": [],
   "source": []
  },
  {
   "cell_type": "code",
   "execution_count": null,
   "id": "d3ed2c61",
   "metadata": {},
   "outputs": [],
   "source": []
  },
  {
   "cell_type": "code",
   "execution_count": null,
   "id": "f29e333e",
   "metadata": {},
   "outputs": [],
   "source": []
  },
  {
   "cell_type": "code",
   "execution_count": null,
   "id": "83ed516d",
   "metadata": {},
   "outputs": [],
   "source": []
  },
  {
   "cell_type": "code",
   "execution_count": null,
   "id": "fa8a0f41",
   "metadata": {},
   "outputs": [],
   "source": []
  },
  {
   "cell_type": "markdown",
   "id": "5641e6d8",
   "metadata": {},
   "source": [
    "<hr>"
   ]
  },
  {
   "cell_type": "markdown",
   "id": "2087b75b",
   "metadata": {},
   "source": [
    "## <code style=\"color:green\">CURIOSIDADES!!</code>"
   ]
  },
  {
   "cell_type": "code",
   "execution_count": 19,
   "id": "807dac55",
   "metadata": {},
   "outputs": [
    {
     "name": "stdout",
     "output_type": "stream",
     "text": [
      "Qual é o seu nome? Lais\n",
      "Prazer em te conhecer                 Lais!\n",
      "Prazer em te conhecer Lais                !\n",
      "Prazer em te conhecer         Lais        !\n",
      "Prazer em te conhecer ========Lais========!\n"
     ]
    }
   ],
   "source": [
    "nome = input('Qual é o seu nome? ')\n",
    "\n",
    "# alinha o nome a direita com 20 espaços\n",
    "print('Prazer em te conhecer {:>20}!'.format(nome))\n",
    "\n",
    "# alinha o nome a  esquerda com 20 espaços\n",
    "print('Prazer em te conhecer {:<20}!'.format(nome)) \n",
    "\n",
    "# alinha o nome ao centro com 20 espaços\n",
    "print('Prazer em te conhecer {:^20}!'.format(nome))\n",
    "\n",
    "# alinha o nome ao centro com 20 espaços e coloca \"=\" em volta do nome\n",
    "print('Prazer em te conhecer {:=^20}!'.format(nome)) "
   ]
  },
  {
   "cell_type": "code",
   "execution_count": 26,
   "id": "c8862ddc",
   "metadata": {},
   "outputs": [
    {
     "name": "stdout",
     "output_type": "stream",
     "text": [
      "Olá! Prazer em te conhecer\n",
      "Laís.\n",
      "\n",
      "Olá! Prazer em te conhecer Laís.\n",
      "\n",
      "Olá! \n",
      "Prazer em te conhecer Laís.\n"
     ]
    }
   ],
   "source": [
    "# Com dois prints ficará cada um em uma linha.\n",
    "print('Olá! Prazer em te conhecer')\n",
    "print('Laís.')\n",
    "\n",
    "# para dar espaço antes de executar o outro print abaixo\n",
    "print()\n",
    "\n",
    "# Com dois prints, porém com end=' 'ficará tudo na mesma linha.\n",
    "print('Olá! Prazer em te conhecer', end=' ')\n",
    "print('Laís.')\n",
    "\n",
    "# para dar espaço antes de executar o outro print abaixo\n",
    "print()\n",
    "\n",
    "# Aqui o \\n antes da palabra Prazer fará com que a parte 'Prazer em te \n",
    "#conhecer Laís.' fique na linha de baixo\n",
    "print('Olá! \\nPrazer em te conhecer Laís.')"
   ]
  },
  {
   "cell_type": "markdown",
   "id": "b00b66d9",
   "metadata": {},
   "source": [
    "<hr>\n",
    "\n",
    "<h3 style=\"color:red\">DESAFIO 5</h3>\n",
    "\n",
    "Faça um programa que leia um número inteiro e mostre na tela o seu sucessor e seu antecessor."
   ]
  },
  {
   "cell_type": "code",
   "execution_count": 41,
   "id": "95f571fe",
   "metadata": {},
   "outputs": [
    {
     "name": "stdout",
     "output_type": "stream",
     "text": [
      "Digite um número: 2\n",
      "O antecessor de 2 é 1.\n",
      "O sucessor de 2 é 3.\n"
     ]
    }
   ],
   "source": [
    "num = int(input('Digite um número: '))\n",
    "\n",
    "ant = num - 1\n",
    "suc = num + 1\n",
    "\n",
    "print(f'O antecessor de {num} é {ant}.')\n",
    "print(f'O sucessor de {num} é {suc}.')"
   ]
  },
  {
   "cell_type": "markdown",
   "id": "8f76044a",
   "metadata": {},
   "source": [
    "<hr>\n",
    "\n",
    "<h3 style=\"color:red\">DESAFIO 6</h3>\n",
    "\n",
    "Crie um algoritmo que leia um número e mostre o seu dobro, triplo e raiz quadrada."
   ]
  },
  {
   "cell_type": "code",
   "execution_count": 42,
   "id": "0146a11f",
   "metadata": {},
   "outputs": [
    {
     "name": "stdout",
     "output_type": "stream",
     "text": [
      "Digite um número: 2\n",
      "O dobro de 2 é 4.\n",
      "O triplo de 2 é 6.\n",
      "A raiz quadrada de 2 é 1.4142135623730951.\n"
     ]
    }
   ],
   "source": [
    "num = int(input('Digite um número: '))\n",
    "\n",
    "dobro = num * 2 \n",
    "triplo = num * 3\n",
    "raiz = num ** (1/2)\n",
    "\n",
    "print(f'O dobro de {num} é {dobro}.')\n",
    "print(f'O triplo de {num} é {triplo}.')\n",
    "print(f'A raiz quadrada de {num} é {raiz}.')"
   ]
  },
  {
   "cell_type": "markdown",
   "id": "cc617148",
   "metadata": {},
   "source": [
    "<hr>\n",
    "\n",
    "<h3 style=\"color:red\">DESAFIO 7</h3>\n",
    "\n",
    "Desenvolva  um programa que leia as duas notas de um aluno, calcule e mostre a sua média."
   ]
  },
  {
   "cell_type": "code",
   "execution_count": 43,
   "id": "53923191",
   "metadata": {},
   "outputs": [
    {
     "name": "stdout",
     "output_type": "stream",
     "text": [
      "Digite sua primeira nota: 8\n",
      "Digite sua segunda nota: 9\n",
      "A sua média é 8.5.\n"
     ]
    }
   ],
   "source": [
    "nota1 = float(input('Digite sua primeira nota: '))\n",
    "nota2 = float(input('Digite sua segunda nota: '))\n",
    "\n",
    "media = (nota1 + nota2) / 2\n",
    "\n",
    "print(f'A sua média é {media}.')"
   ]
  },
  {
   "cell_type": "markdown",
   "id": "bfe95864",
   "metadata": {},
   "source": [
    "<hr>\n",
    "\n",
    "<h3 style=\"color:red\">DESAFIO 8</h3>\n",
    "\n",
    "Escreva um programa que leia um valor em metros e o exiba convertido em centímetros e milímetros."
   ]
  },
  {
   "cell_type": "code",
   "execution_count": 47,
   "id": "3a31897b",
   "metadata": {},
   "outputs": [
    {
     "name": "stdout",
     "output_type": "stream",
     "text": [
      "Digite um valor em metros: 20\n",
      "O valor 20.0m equivale a 2000.0 centímetros.\n",
      "O valor 20.0m equivale a 20000.0 milímetros.\n"
     ]
    }
   ],
   "source": [
    "valor = float(input('Digite um valor em metros: '))\n",
    "\n",
    "dm = valor * 10\n",
    "cm = valor * 100\n",
    "mm = valor * 1000\n",
    "\n",
    "dam = valor / 10\n",
    "hm = valor / 100 \n",
    "km = valor / 1000\n",
    "\n",
    "print(f'O valor {valor}m equivale a {cm} centímetros.')\n",
    "print(f'O valor {valor}m equivale a {mm} milímetros.')"
   ]
  },
  {
   "cell_type": "markdown",
   "id": "7dcf7aab",
   "metadata": {},
   "source": [
    "<hr>\n",
    "\n",
    "<h3 style=\"color:red\">DESAFIO 9</h3>\n",
    "\n",
    "Faça um programa que leia um número inteiro qualquer e mostre na tela a sua tabuada."
   ]
  },
  {
   "cell_type": "code",
   "execution_count": 50,
   "id": "671b43da",
   "metadata": {},
   "outputs": [
    {
     "name": "stdout",
     "output_type": "stream",
     "text": [
      "Digite um número para mostrar sua tabuada: 2\n",
      "2 x 1 = 2\n",
      "2 x 2 = 4\n",
      "2 x 3 = 6\n",
      "2 x 4 = 8\n",
      "2 x 5 = 10\n",
      "2 x 6 = 12\n",
      "2 x 7 = 14\n",
      "2 x 8 = 16\n",
      "2 x 9 = 18\n",
      "2 x 10 = 20\n"
     ]
    }
   ],
   "source": [
    "num = int(input('Digite um número para mostrar sua tabuada: '))\n",
    "\n",
    "print(f'{num} x 1 = {num*1}')\n",
    "print(f'{num} x 2 = {num*2}')\n",
    "print(f'{num} x 3 = {num*3}')\n",
    "print(f'{num} x 4 = {num*4}')\n",
    "print(f'{num} x 5 = {num*5}')\n",
    "print(f'{num} x 6 = {num*6}')\n",
    "print(f'{num} x 7 = {num*7}')\n",
    "print(f'{num} x 8 = {num*8}')\n",
    "print(f'{num} x 9 = {num*9}')\n",
    "print(f'{num} x 10 = {num*10}')"
   ]
  },
  {
   "cell_type": "markdown",
   "id": "5e1187aa",
   "metadata": {},
   "source": [
    "<hr>\n",
    "\n",
    "<h3 style=\"color:red\">DESAFIO 10</h3>\n",
    "\n",
    "Crie um programa que leia quanto dinheiro uma pessoa tem na carteira e mostre quantos dólares ela pode comprar.\n",
    "\n",
    "Considere: US$1,00 = RS4,98"
   ]
  },
  {
   "cell_type": "code",
   "execution_count": 52,
   "id": "98afa1c6",
   "metadata": {},
   "outputs": [
    {
     "name": "stdout",
     "output_type": "stream",
     "text": [
      "Digite quanto de dinheiro você possui na carteira: 25.50\n",
      "Com o valor de R$25.5 você pode comprar US$5.12.\n"
     ]
    }
   ],
   "source": [
    "valor = float(input('Digite quanto de dinheiro você possui na carteira: '))\n",
    "\n",
    "dolar = valor / 4.98\n",
    "\n",
    "print(f'Com o valor de R${valor} você pode comprar US${round(dolar,2)}.')"
   ]
  },
  {
   "cell_type": "markdown",
   "id": "a6dd4f8f",
   "metadata": {},
   "source": [
    "<hr>\n",
    "\n",
    "<h3 style=\"color:red\">DESAFIO 11</h3>\n",
    "\n",
    "Faça um programa que leia a largura e a altura de uma parede em metros. Calcule a sua área e a quantidade de tinta necessária para pintá-la, sabendo que cada litro de tinta, pinta uma área de 2m²."
   ]
  },
  {
   "cell_type": "code",
   "execution_count": 55,
   "id": "f0f14460",
   "metadata": {},
   "outputs": [
    {
     "name": "stdout",
     "output_type": "stream",
     "text": [
      "Digite a largura da parede em metros: 9\n",
      "Digite a altura da parede em metros: 3\n",
      "Uma área de 27.0m² de parede precisará de 54.0 litros de tinta.\n"
     ]
    }
   ],
   "source": [
    "largura = float(input('Digite a largura da parede em metros: '))\n",
    "altura = float(input('Digite a altura da parede em metros: '))\n",
    "\n",
    "area = largura * altura\n",
    "\n",
    "quant_tinta = area * 2\n",
    "\n",
    "print(f'Uma área de {area}m² de parede precisará de {quant_tinta} litros de tinta.')"
   ]
  },
  {
   "cell_type": "markdown",
   "id": "93732f27",
   "metadata": {},
   "source": [
    "<hr>\n",
    "\n",
    "<h3 style=\"color:red\">DESAFIO 12</h3>\n",
    "\n",
    "Faça um algoritmo que leia o preço de um produto e mostre seu novo preço, com 5% de desconto."
   ]
  },
  {
   "cell_type": "code",
   "execution_count": 57,
   "id": "c02c9196",
   "metadata": {},
   "outputs": [
    {
     "name": "stdout",
     "output_type": "stream",
     "text": [
      "Qual o preço do produto: 15\n",
      "O produto que custava R$15.0 agora custará R$14.25, um desconto de 5%.\n"
     ]
    }
   ],
   "source": [
    "preco = float(input('Qual o preço do produto: '))\n",
    "\n",
    "novo_preco = preco - (preco * 0.05)\n",
    "\n",
    "print(f'O produto que custava R${preco} agora custará R${novo_preco}, um desconto de 5%.')"
   ]
  },
  {
   "cell_type": "markdown",
   "id": "e886ef28",
   "metadata": {},
   "source": [
    "<hr>\n",
    "\n",
    "<h3 style=\"color:red\">DESAFIO 13</h3>\n",
    "\n",
    "Faça um algoritmo que leia o salário de um funcionário e mostre seu novo salário, com 15% de aumento."
   ]
  },
  {
   "cell_type": "code",
   "execution_count": 58,
   "id": "c62912c0",
   "metadata": {},
   "outputs": [
    {
     "name": "stdout",
     "output_type": "stream",
     "text": [
      "Digite seu salário: 2000\n",
      "O salário que era de R$2000.0 agora será de R$2300.0, um aumento de 15%.\n"
     ]
    }
   ],
   "source": [
    "salario = float(input('Digite seu salário: '))\n",
    "\n",
    "novo_salario = salario + (salario * 0.15)\n",
    "\n",
    "print(f'O salário que era de R${salario} agora será de R${novo_salario}, um aumento de 15%.')"
   ]
  },
  {
   "cell_type": "markdown",
   "id": "ec41fe7d",
   "metadata": {},
   "source": [
    "<hr>\n",
    "\n",
    "<h3 style=\"color:red\">DESAFIO 14</h3>\n",
    "\n",
    "Escreva um programa que converta uma temperatura digitada em ºC e converta para ºF."
   ]
  },
  {
   "cell_type": "code",
   "execution_count": 60,
   "id": "dd1439a0",
   "metadata": {},
   "outputs": [
    {
     "name": "stdout",
     "output_type": "stream",
     "text": [
      "Digite a temperatura: 35\n",
      "A temperatura de 35.0ºC será 95.0ºF.\n"
     ]
    }
   ],
   "source": [
    "temp_celsius = float(input('Digite a temperatura: '))\n",
    "\n",
    "temp_fahrenheit = (temp_celsius * 9/5) + 32\n",
    "\n",
    "print(f'A temperatura de {temp_celsius}ºC será {temp_fahrenheit}ºF.')"
   ]
  },
  {
   "cell_type": "markdown",
   "id": "70d3094c",
   "metadata": {},
   "source": [
    "<hr>\n",
    "\n",
    "<h3 style=\"color:red\">DESAFIO 15</h3>\n",
    "\n",
    "Escreva um programa que pergunte a quantidade de Km percorridos por um carro alugado e a quantidade de dias pelos quais ele foi alugado. Calcule o preço a pagar, sabendo que o carro custa 60 reais por dia e 0,15 centavos por Km rodado."
   ]
  },
  {
   "cell_type": "code",
   "execution_count": 61,
   "id": "e49385dc",
   "metadata": {},
   "outputs": [
    {
     "name": "stdout",
     "output_type": "stream",
     "text": [
      "Digite os quilometros rodados pelo carro: 2000\n",
      "Digite a quantidade de dias utilizados com o carro: 2\n",
      "Você irá pagar pelo carro alugado um total de R$420.0.\n"
     ]
    }
   ],
   "source": [
    "km = float(input('Digite os quilometros rodados pelo carro: '))\n",
    "dias = int(input('Digite a quantidade de dias utilizados com o carro: '))\n",
    "\n",
    "preco_pago =  (60 * dias) + (0.15 * km)\n",
    "\n",
    "print(f'Você irá pagar pelo carro alugado um total de R${preco_pago}.')"
   ]
  },
  {
   "cell_type": "markdown",
   "id": "07cbfa5e",
   "metadata": {},
   "source": [
    "<hr>"
   ]
  },
  {
   "cell_type": "markdown",
   "id": "9eaab4a1",
   "metadata": {},
   "source": [
    "### Utilizando Módulos"
   ]
  },
  {
   "cell_type": "markdown",
   "id": "23a0d652",
   "metadata": {},
   "source": [
    "Algumas funcionalidades do Módulo `math`:\n",
    "\n",
    "* `ceil` - arredonda um valor para cima.\n",
    "* `floor` - arredonda um valor para baixo.\n",
    "* `trunc` - elimina os valores depois da vírgula de um número.\n",
    "* `pow` - faz a potenciação de um número.\n",
    "* `sqrt` - faz a raiz quadrada de um valor.\n",
    "* `factorial` - calcula o fatorial de um valor."
   ]
  },
  {
   "cell_type": "markdown",
   "id": "0eb2b7ad",
   "metadata": {},
   "source": [
    "### Módulo math"
   ]
  },
  {
   "cell_type": "code",
   "execution_count": null,
   "id": "9eb52855",
   "metadata": {},
   "outputs": [],
   "source": [
    "# importa todas as funcionalidades do módulo math\n",
    "import math \n",
    "\n",
    "# importa somente a funcionalidade sqrt do módulo math\n",
    "from math import sqrt\n",
    "\n",
    "# importa somente as duas funcionalidades sqrt e ceil do módulo math\n",
    "from math import sqrt, ceil"
   ]
  },
  {
   "cell_type": "code",
   "execution_count": 31,
   "id": "35f2581f",
   "metadata": {},
   "outputs": [
    {
     "name": "stdout",
     "output_type": "stream",
     "text": [
      "A raiz de 29 é 5.385164807134504\n",
      "A raiz de 29 é 5.39\n",
      "A raiz de 29 é 6\n",
      "A raiz de 29 é 5\n"
     ]
    }
   ],
   "source": [
    "import math\n",
    "\n",
    "num = 29\n",
    "raiz = math.sqrt(num)\n",
    "print(f'A raiz de {num} é {raiz}')\n",
    "print(f'A raiz de {num} é {round(raiz,2)}')\n",
    "print(f'A raiz de {num} é {math.ceil(raiz)}')\n",
    "print(f'A raiz de {num} é {math.floor(raiz)}')"
   ]
  },
  {
   "cell_type": "code",
   "execution_count": 32,
   "id": "bf36720f",
   "metadata": {},
   "outputs": [
    {
     "name": "stdout",
     "output_type": "stream",
     "text": [
      "A raiz de 25 é 5.0\n"
     ]
    }
   ],
   "source": [
    "from math import sqrt\n",
    "\n",
    "num = 25\n",
    "raiz = sqrt(num)\n",
    "print(f'A raiz de {num} é {raiz}')"
   ]
  },
  {
   "cell_type": "code",
   "execution_count": 33,
   "id": "a15d96d6",
   "metadata": {},
   "outputs": [
    {
     "name": "stdout",
     "output_type": "stream",
     "text": [
      "A raiz de 29 é 5\n"
     ]
    }
   ],
   "source": [
    "from math import sqrt, floor\n",
    "\n",
    "num = 29\n",
    "raiz = sqrt(num)\n",
    "print(f'A raiz de {num} é {floor(raiz)}')"
   ]
  },
  {
   "cell_type": "markdown",
   "id": "042c7120",
   "metadata": {},
   "source": [
    "<hr>"
   ]
  },
  {
   "cell_type": "markdown",
   "id": "fd5a25dc",
   "metadata": {},
   "source": [
    "## <code style=\"color:green\">CURIOSIDADES!!</code>"
   ]
  },
  {
   "cell_type": "code",
   "execution_count": 37,
   "id": "c5f8bd84",
   "metadata": {},
   "outputs": [
    {
     "name": "stdout",
     "output_type": "stream",
     "text": [
      "3.9.12\n"
     ]
    }
   ],
   "source": [
    "from platform import python_version\n",
    "\n",
    "print(python_version())"
   ]
  },
  {
   "cell_type": "markdown",
   "id": "3862cf15",
   "metadata": {},
   "source": [
    "<hr>"
   ]
  },
  {
   "cell_type": "markdown",
   "id": "7c1685ea",
   "metadata": {},
   "source": [
    "### Módulo random"
   ]
  },
  {
   "cell_type": "code",
   "execution_count": 39,
   "id": "f36ee1f5",
   "metadata": {},
   "outputs": [
    {
     "name": "stdout",
     "output_type": "stream",
     "text": [
      "0.6296057425408333\n",
      "4\n"
     ]
    }
   ],
   "source": [
    "import random\n",
    "\n",
    "num = random.random() # gera um numero entre 0 e 1\n",
    "print(num)\n",
    "\n",
    "num2 = random.randint(1, 10) # gera um numero entre 1 e 10 inclusivos\n",
    "print(num2)"
   ]
  },
  {
   "cell_type": "markdown",
   "id": "6a21b67e",
   "metadata": {},
   "source": [
    "<hr>\n",
    "\n",
    "<h3 style=\"color:red\">DESAFIO 16</h3>\n",
    "\n",
    "Crie um programa que leia um número real qualquer pelo teclado e mostre na tela a sua porção inteira.\n",
    "\n",
    "Ex: Digite o número: 6.127. O número 6.127 tem a parte inteira 6."
   ]
  },
  {
   "cell_type": "code",
   "execution_count": 64,
   "id": "9d17ce2e",
   "metadata": {},
   "outputs": [
    {
     "name": "stdout",
     "output_type": "stream",
     "text": [
      "Digite um número: 6.127\n",
      "O número 6.127 tem a parte inteira 6\n"
     ]
    }
   ],
   "source": [
    "from math import trunc\n",
    "\n",
    "num = float(input('Digite um número: '))\n",
    "\n",
    "print(f'O número {num} tem a parte inteira {trunc(num)}')"
   ]
  },
  {
   "cell_type": "markdown",
   "id": "14923ceb",
   "metadata": {},
   "source": [
    "<hr>\n",
    "\n",
    "<h3 style=\"color:red\">DESAFIO 17</h3>\n",
    "\n",
    "Faça um programa que leia o comprimento do cateto oposto e do cateto adjacente de um triângulo retângulo. Calcule e mostre o comprimento da hipotenusa."
   ]
  },
  {
   "cell_type": "code",
   "execution_count": 68,
   "id": "62029a4b",
   "metadata": {},
   "outputs": [
    {
     "name": "stdout",
     "output_type": "stream",
     "text": [
      "Digite o valor do cateto oposto do triângulo retângulo: 9\n",
      "Digite o valor do cateto adjacente do triângulo retângulo:12\n",
      "O valor da hipotenusa para o triângulo com cateto oposto de 9.0 e cateto adjacente de 12.0 é 15.0.\n"
     ]
    }
   ],
   "source": [
    "from math import sqrt\n",
    "cat_opos = float(input('Digite o valor do cateto oposto do triângulo retângulo: ')) \n",
    "cat_adj = float(input('Digite o valor do cateto adjacente do triângulo retângulo:'))\n",
    "\n",
    "hipotenusa = sqrt(cat_opos**2 + cat_adj**2)\n",
    "\n",
    "print(f'O valor da hipotenusa para o triângulo com cateto oposto de {cat_opos} e cateto adjacente de {cat_adj} é {hipotenusa}.')"
   ]
  },
  {
   "cell_type": "markdown",
   "id": "76c983ec",
   "metadata": {},
   "source": [
    "<hr>\n",
    "\n",
    "<h3 style=\"color:red\">DESAFIO 18</h3>\n",
    "\n",
    "Faça um programa que leia um ângulo qualquer e mostre na tela o valor do seno, cosseno e tangente desse ângulo."
   ]
  },
  {
   "cell_type": "code",
   "execution_count": 72,
   "id": "82fe8c66",
   "metadata": {},
   "outputs": [
    {
     "name": "stdout",
     "output_type": "stream",
     "text": [
      "Digite um ângulo qualquer: 30\n",
      "O cosseno do ângulo 30.0 é 0.87.\n",
      "O seno do ângulo 30.0 é 0.5.\n",
      "A tangente do ângulo 30.0 é 0.58.\n"
     ]
    }
   ],
   "source": [
    "from math import cos, sin, tan, radians\n",
    "\n",
    "angulo = float(input('Digite um ângulo qualquer: '))\n",
    "\n",
    "cosseno = cos(radians(angulo))\n",
    "seno = sin(radians(angulo))\n",
    "tangente = tan(radians(angulo))\n",
    "\n",
    "print(f'O cosseno do ângulo {angulo} é {round(cosseno,2)}.')\n",
    "print(f'O seno do ângulo {angulo} é {round(seno,2)}.')\n",
    "print(f'A tangente do ângulo {angulo} é {round(tangente,2)}.')"
   ]
  },
  {
   "cell_type": "markdown",
   "id": "63a44673",
   "metadata": {},
   "source": [
    "<hr>\n",
    "\n",
    "<h3 style=\"color:red\">DESAFIO 19</h3>\n",
    "\n",
    "Um professor quer sortear um de seus quatro alunos para apagar o quadro. Faça um programa que ajude ele, lendo o nome deles e escrevendo o nome do escolhido. "
   ]
  },
  {
   "cell_type": "code",
   "execution_count": 75,
   "id": "d14ab318",
   "metadata": {},
   "outputs": [
    {
     "name": "stdout",
     "output_type": "stream",
     "text": [
      "Digite o nome do primeiro aluno: Paulo\n",
      "Digite o nome do segundo aluno: Ana\n",
      "Digite o nome do terceiro aluno: Pedro\n",
      "Digite o nome do quarto aluno: Maria\n",
      "O aluno escolhido para apagar o quadro foi Pedro.\n"
     ]
    }
   ],
   "source": [
    "import random\n",
    "\n",
    "aluno1 = input('Digite o nome do primeiro aluno: ')\n",
    "aluno2 = input('Digite o nome do segundo aluno: ')\n",
    "aluno3 = input('Digite o nome do terceiro aluno: ')\n",
    "aluno4 = input('Digite o nome do quarto aluno: ')\n",
    "\n",
    "alunos = [aluno1, aluno2, aluno3, aluno4]\n",
    "\n",
    "aluno_escolhido = random.choice(alunos)\n",
    "\n",
    "print(f'O aluno escolhido para apagar o quadro foi {aluno_escolhido}.')"
   ]
  },
  {
   "cell_type": "markdown",
   "id": "8e0922bd",
   "metadata": {},
   "source": [
    "<hr>\n",
    "\n",
    "<h3 style=\"color:red\">DESAFIO 20</h3>\n",
    "\n",
    "O mesmo professor do desafio anterior quer sortear a ordem de apresentação de trabalhos dos alunos. Faça um programa que leia o nome dos quatro alunos e mostre a ordem sorteada. "
   ]
  },
  {
   "cell_type": "code",
   "execution_count": 79,
   "id": "c11a2f49",
   "metadata": {},
   "outputs": [
    {
     "name": "stdout",
     "output_type": "stream",
     "text": [
      "Digite o nome do primeiro aluno: Paulo\n",
      "Digite o nome do segundo aluno: Ana\n",
      "Digite o nome do terceiro aluno: Pedro\n",
      "Digite o nome do quarto aluno: Maria\n",
      "A ordem de apresentação dos trabalhos será: ['Pedro', 'Paulo', 'Maria', 'Ana'].\n"
     ]
    }
   ],
   "source": [
    "import random\n",
    "\n",
    "aluno1 = input('Digite o nome do primeiro aluno: ')\n",
    "aluno2 = input('Digite o nome do segundo aluno: ')\n",
    "aluno3 = input('Digite o nome do terceiro aluno: ')\n",
    "aluno4 = input('Digite o nome do quarto aluno: ')\n",
    "\n",
    "alunos = [aluno1, aluno2, aluno3, aluno4]\n",
    "\n",
    "random.shuffle(alunos)\n",
    "\n",
    "print(f'A ordem de apresentação dos trabalhos será: {alunos}.')"
   ]
  },
  {
   "cell_type": "markdown",
   "id": "3afad17f",
   "metadata": {},
   "source": [
    "<hr>\n",
    "\n",
    "<h3 style=\"color:red\">DESAFIO 21</h3>\n",
    "\n",
    "Faça um programa em Python que abra e reproduza o áudio de um arquivo MP3."
   ]
  },
  {
   "cell_type": "code",
   "execution_count": null,
   "id": "0fb7a86d",
   "metadata": {},
   "outputs": [],
   "source": []
  },
  {
   "cell_type": "markdown",
   "id": "25ebea89",
   "metadata": {},
   "source": [
    "### Manipulando Texto"
   ]
  },
  {
   "cell_type": "code",
   "execution_count": 80,
   "id": "803ef32e",
   "metadata": {},
   "outputs": [],
   "source": [
    "frase = 'Curso em Vídeo Python'"
   ]
  },
  {
   "cell_type": "code",
   "execution_count": 81,
   "id": "9bd8af64",
   "metadata": {},
   "outputs": [
    {
     "name": "stdout",
     "output_type": "stream",
     "text": [
      "Curso em Vídeo Python\n"
     ]
    }
   ],
   "source": [
    "print(frase)"
   ]
  },
  {
   "cell_type": "markdown",
   "id": "3f8c2de7",
   "metadata": {},
   "source": [
    "#### Fatiamento de string"
   ]
  },
  {
   "cell_type": "code",
   "execution_count": 82,
   "id": "27db86a9",
   "metadata": {},
   "outputs": [
    {
     "name": "stdout",
     "output_type": "stream",
     "text": [
      "V\n",
      "Víde\n",
      "Vídeo\n",
      "Vídeo Python\n",
      "VdoPto\n",
      "Curso\n",
      "Python\n",
      "VePh\n"
     ]
    }
   ],
   "source": [
    "print(frase[9]) # Resultado: V\n",
    "\n",
    "# O caracter na posição 13 não entra\n",
    "print(frase[9:13]) # Resultado: Víde\n",
    "\n",
    "print(frase[9:14]) # Resultado: Vídeo\n",
    "\n",
    "print(frase[9:21]) # Resultado: Vídeo Python\n",
    "\n",
    "print(frase[9:21:2]) # Resultado: VdoPto\n",
    "\n",
    "print(frase[:5]) # Resultado: Curso\n",
    "\n",
    "print(frase[15:]) # Resultado: Python\n",
    "\n",
    "print(frase[9::3]) # Resultado: VePh"
   ]
  },
  {
   "cell_type": "markdown",
   "id": "8002ef8a",
   "metadata": {},
   "source": [
    "#### Analisando a string"
   ]
  },
  {
   "cell_type": "code",
   "execution_count": 83,
   "id": "76ac3527",
   "metadata": {},
   "outputs": [
    {
     "data": {
      "text/plain": [
       "21"
      ]
     },
     "execution_count": 83,
     "metadata": {},
     "output_type": "execute_result"
    }
   ],
   "source": [
    "len(frase) # Comprimento da string"
   ]
  },
  {
   "cell_type": "code",
   "execution_count": 84,
   "id": "6877fd38",
   "metadata": {},
   "outputs": [
    {
     "data": {
      "text/plain": [
       "3"
      ]
     },
     "execution_count": 84,
     "metadata": {},
     "output_type": "execute_result"
    }
   ],
   "source": [
    "frase.count('o') # Quantidade de letras 'o' na frase"
   ]
  },
  {
   "cell_type": "code",
   "execution_count": 85,
   "id": "6a3f1180",
   "metadata": {},
   "outputs": [
    {
     "data": {
      "text/plain": [
       "1"
      ]
     },
     "execution_count": 85,
     "metadata": {},
     "output_type": "execute_result"
    }
   ],
   "source": [
    "# Quantidade de letras 'o' que possui na frase da posição 0 a 12\n",
    "frase.count('o', 0, 13)"
   ]
  },
  {
   "cell_type": "code",
   "execution_count": 86,
   "id": "49c956c1",
   "metadata": {},
   "outputs": [
    {
     "data": {
      "text/plain": [
       "11"
      ]
     },
     "execution_count": 86,
     "metadata": {},
     "output_type": "execute_result"
    }
   ],
   "source": [
    "# Encontra a string 'deo' e tem como resultado a posição\n",
    "# que começou a string 'deo' na frase\n",
    "frase.find('deo') "
   ]
  },
  {
   "cell_type": "code",
   "execution_count": 87,
   "id": "2f81ee1e",
   "metadata": {},
   "outputs": [
    {
     "data": {
      "text/plain": [
       "-1"
      ]
     },
     "execution_count": 87,
     "metadata": {},
     "output_type": "execute_result"
    }
   ],
   "source": [
    "# Retorna -1 porque não existe a string 'Android' na frase\n",
    "frase.find('Android') "
   ]
  },
  {
   "cell_type": "code",
   "execution_count": 88,
   "id": "59faa2ff",
   "metadata": {},
   "outputs": [
    {
     "data": {
      "text/plain": [
       "True"
      ]
     },
     "execution_count": 88,
     "metadata": {},
     "output_type": "execute_result"
    }
   ],
   "source": [
    "# Retorna se existe(True) ou não existe(False) a palavra Curso \n",
    "# na frase\n",
    "'Curso' in frase"
   ]
  },
  {
   "cell_type": "code",
   "execution_count": 89,
   "id": "aebb43fe",
   "metadata": {},
   "outputs": [
    {
     "name": "stdout",
     "output_type": "stream",
     "text": [
      "Curso em Vídeo Android\n"
     ]
    }
   ],
   "source": [
    "# Substitui, se tiver, a palavra 'Python' por 'Android' na frase\n",
    "frase.replace('Python', 'Android')\n",
    "\n",
    "print(frase.replace('Python', 'Android'))"
   ]
  },
  {
   "cell_type": "code",
   "execution_count": 91,
   "id": "23a7595f",
   "metadata": {},
   "outputs": [
    {
     "data": {
      "text/plain": [
       "'CURSO EM VÍDEO PYTHON'"
      ]
     },
     "execution_count": 91,
     "metadata": {},
     "output_type": "execute_result"
    }
   ],
   "source": [
    "frase.upper() # Coloca todas as letras em maiusculas"
   ]
  },
  {
   "cell_type": "code",
   "execution_count": 92,
   "id": "57d63513",
   "metadata": {},
   "outputs": [
    {
     "data": {
      "text/plain": [
       "'curso em vídeo python'"
      ]
     },
     "execution_count": 92,
     "metadata": {},
     "output_type": "execute_result"
    }
   ],
   "source": [
    "frase.lower() # Coloca todas as letras em minusculas"
   ]
  },
  {
   "cell_type": "code",
   "execution_count": 93,
   "id": "fb8afc2b",
   "metadata": {},
   "outputs": [
    {
     "data": {
      "text/plain": [
       "'Curso em vídeo python'"
      ]
     },
     "execution_count": 93,
     "metadata": {},
     "output_type": "execute_result"
    }
   ],
   "source": [
    "# Colocar a primeira letra da frase em maiusculas e \n",
    "# o restante em minusculas\n",
    "frase.capitalize()"
   ]
  },
  {
   "cell_type": "code",
   "execution_count": 94,
   "id": "3763465b",
   "metadata": {},
   "outputs": [
    {
     "data": {
      "text/plain": [
       "'Curso Em Vídeo Python'"
      ]
     },
     "execution_count": 94,
     "metadata": {},
     "output_type": "execute_result"
    }
   ],
   "source": [
    "# Coloca todas as primeiras letras de cada palavra da frase em\n",
    "# maiusculas e o restante fica em minusculas\n",
    "frase.title() "
   ]
  },
  {
   "cell_type": "markdown",
   "id": "3174c61e",
   "metadata": {},
   "source": [
    "#### Transformação de string"
   ]
  },
  {
   "cell_type": "code",
   "execution_count": 99,
   "id": "4bb1f561",
   "metadata": {},
   "outputs": [
    {
     "data": {
      "text/plain": [
       "'   Aprenda Python  '"
      ]
     },
     "execution_count": 99,
     "metadata": {},
     "output_type": "execute_result"
    }
   ],
   "source": [
    "frase2 = '   Aprenda Python  '\n",
    "frase2"
   ]
  },
  {
   "cell_type": "code",
   "execution_count": 100,
   "id": "1aa70ded",
   "metadata": {},
   "outputs": [
    {
     "data": {
      "text/plain": [
       "'Aprenda Python'"
      ]
     },
     "execution_count": 100,
     "metadata": {},
     "output_type": "execute_result"
    }
   ],
   "source": [
    "frase2.strip() # Remove os espaços antes e depois da frase"
   ]
  },
  {
   "cell_type": "code",
   "execution_count": 101,
   "id": "7ded12d7",
   "metadata": {},
   "outputs": [
    {
     "data": {
      "text/plain": [
       "'   Aprenda Python'"
      ]
     },
     "execution_count": 101,
     "metadata": {},
     "output_type": "execute_result"
    }
   ],
   "source": [
    "frase2.rstrip() # Remove os espaços a direita da frase"
   ]
  },
  {
   "cell_type": "code",
   "execution_count": 102,
   "id": "d69deb5a",
   "metadata": {},
   "outputs": [
    {
     "data": {
      "text/plain": [
       "'Aprenda Python  '"
      ]
     },
     "execution_count": 102,
     "metadata": {},
     "output_type": "execute_result"
    }
   ],
   "source": [
    "frase2.lstrip() # Remove os espaços a esquerda da frase"
   ]
  },
  {
   "cell_type": "markdown",
   "id": "1c1ef77b",
   "metadata": {},
   "source": [
    "#### Divisão de string"
   ]
  },
  {
   "cell_type": "code",
   "execution_count": 103,
   "id": "1cd08dbb",
   "metadata": {},
   "outputs": [
    {
     "data": {
      "text/plain": [
       "['Curso', 'em', 'Vídeo', 'Python']"
      ]
     },
     "execution_count": 103,
     "metadata": {},
     "output_type": "execute_result"
    }
   ],
   "source": [
    "# Divide a frase considerando os espaços, retorna uma lista\n",
    "frase.split()"
   ]
  },
  {
   "cell_type": "markdown",
   "id": "ab9108db",
   "metadata": {},
   "source": [
    "#### Junção de string"
   ]
  },
  {
   "cell_type": "code",
   "execution_count": 105,
   "id": "a5765480",
   "metadata": {},
   "outputs": [
    {
     "data": {
      "text/plain": [
       "'Curso-em-Vídeo-Python'"
      ]
     },
     "execution_count": 105,
     "metadata": {},
     "output_type": "execute_result"
    }
   ],
   "source": [
    "frase3 = frase.split()\n",
    "'-'.join(frase3)"
   ]
  },
  {
   "cell_type": "markdown",
   "id": "f9f6fad7",
   "metadata": {},
   "source": [
    "<hr>\n",
    "\n",
    "## <code style=\"color:green\">CURIOSIDADES!!</code>"
   ]
  },
  {
   "cell_type": "code",
   "execution_count": 107,
   "id": "28a4a3ef",
   "metadata": {},
   "outputs": [
    {
     "name": "stdout",
     "output_type": "stream",
     "text": [
      "O tipo String é usado principalmente para gravar \n",
      "informações de texto, como o nome de uma pessoa ou uma \n",
      "marca de roupas, por exemplo. Nele temos uma sequência \n",
      "de caracteres que formam uma string. O Python permite \n",
      "formar strings com um par de aspas simples ou duplas.\n"
     ]
    }
   ],
   "source": [
    "# Print de textos longos:\n",
    "\n",
    "print('''O tipo String é usado principalmente para gravar \n",
    "informações de texto, como o nome de uma pessoa ou uma \n",
    "marca de roupas, por exemplo. Nele temos uma sequência \n",
    "de caracteres que formam uma string. O Python permite \n",
    "formar strings com um par de aspas simples ou duplas.''')"
   ]
  },
  {
   "cell_type": "markdown",
   "id": "62fa0a80",
   "metadata": {},
   "source": [
    "<hr>\n",
    "\n",
    "<h3 style=\"color:red\">DESAFIO 22</h3>\n",
    "\n",
    "Crie um programa que leia o nome completo de uma pessoa e mostre:\n",
    "\n",
    "* O nome com todas as letras maiusculas\n",
    "* O nome com todas minusculas\n",
    "* Quantas letras ao todo(sem considerar espaços)\n",
    "* Quantas letras tem o primeiro nome"
   ]
  },
  {
   "cell_type": "code",
   "execution_count": 11,
   "id": "905112ca",
   "metadata": {},
   "outputs": [
    {
     "name": "stdout",
     "output_type": "stream",
     "text": [
      "Digite seu nome completo: Lais Elias Gimenes\n",
      "Seu nome com todas as letras maiúsculas é LAIS ELIAS GIMENES.\n",
      "Seu nome com todas as letras minúsculas é lais elias gimenes.\n",
      "Seu nome completo tem 16 letras.\n",
      "Seu primeiro nome tem 4 letras.\n"
     ]
    }
   ],
   "source": [
    "nome = input('Digite seu nome completo: ').strip()\n",
    "\n",
    "print(f'Seu nome com todas as letras maiúsculas é {nome.upper()}.')\n",
    "print(f'Seu nome com todas as letras minúsculas é {nome.lower()}.')\n",
    "\n",
    "qtd_letras = len(nome) - nome.count(' ')\n",
    "\n",
    "print(f'Seu nome completo tem {qtd_letras} letras.')\n",
    "\n",
    "qtd_primeiro_nome = len(nome.split()[0])\n",
    "\n",
    "print(f'Seu primeiro nome tem {qtd_primeiro_nome} letras.')"
   ]
  },
  {
   "cell_type": "markdown",
   "id": "3b772011",
   "metadata": {},
   "source": [
    "<hr>\n",
    "\n",
    "<h3 style=\"color:red\">DESAFIO 23</h3>\n",
    "\n",
    "Faça um programa que leia um número de 0 a 9999 e mostre na tela cada um dos digitos separados.\n",
    "\n",
    "Ex: Digite um número: 1834\n",
    "\n",
    "* Unidade: 4\n",
    "* Dezena: 3\n",
    "* Centena: 8\n",
    "* Milhar: 1"
   ]
  },
  {
   "cell_type": "code",
   "execution_count": 16,
   "id": "fcb4bdf1",
   "metadata": {},
   "outputs": [
    {
     "name": "stdout",
     "output_type": "stream",
     "text": [
      "Informe um número inteiro de 0 até 9999: 1834\n",
      "Unidade: 4\n",
      "Dezena: 3\n",
      "Centena: 8\n",
      "Milhar: 1\n"
     ]
    }
   ],
   "source": [
    "num = input('Informe um número inteiro de 0 até 9999: ')\n",
    "\n",
    "# se o número tiver 2 digitos e ele preenche com 0 até ter 4 digitos\n",
    "numero = f'{num:0>4}' \n",
    "\n",
    "\n",
    "print(f'Unidade: {numero[3]}')\n",
    "print(f'Dezena: {numero[2]}')\n",
    "print(f'Centena: {numero[1]}')\n",
    "print(f'Milhar: {numero[0]}')"
   ]
  },
  {
   "cell_type": "markdown",
   "id": "e508b251",
   "metadata": {},
   "source": [
    "#### Outra forma de fazer o DESAFIO 23"
   ]
  },
  {
   "cell_type": "code",
   "execution_count": 47,
   "id": "bd8e0f5f",
   "metadata": {},
   "outputs": [
    {
     "name": "stdout",
     "output_type": "stream",
     "text": [
      "Informe um número inteiro de 0 até 9999: 1834\n",
      "Analisando o número 1834\n",
      "Unidade: 4\n",
      "Dezena: 3\n",
      "Centena: 8\n",
      "Milhar: 1\n"
     ]
    }
   ],
   "source": [
    "num = int(input('Informe um número inteiro de 0 até 9999: '))\n",
    "\n",
    "print(f'Analisando o número {num}')\n",
    "\n",
    "print(f'Unidade: {num // 1 % 10}')\n",
    "print(f'Dezena: {num // 10 % 10}')\n",
    "print(f'Centena: {num // 100 % 10}')\n",
    "print(f'Milhar: {num // 1000 % 10}')"
   ]
  },
  {
   "cell_type": "markdown",
   "id": "d0554326",
   "metadata": {},
   "source": [
    "<hr>\n",
    "\n",
    "<h3 style=\"color:red\">DESAFIO 24</h3>\n",
    "\n",
    "Crie um programa que leia o nome de uma cidade e diga se ela começa ou não com o nome 'SANTO'. "
   ]
  },
  {
   "cell_type": "code",
   "execution_count": 55,
   "id": "71bee66e",
   "metadata": {},
   "outputs": [
    {
     "name": "stdout",
     "output_type": "stream",
     "text": [
      "Em que cidade você nasceu? Santo Anastacio\n",
      "A cidade digitada começa com 'SANTO'? True\n"
     ]
    }
   ],
   "source": [
    "cidade = input('Em que cidade você nasceu? ').strip().upper()\n",
    "\n",
    "cid = cidade.split(' ')\n",
    "\n",
    "print(f\"A cidade digitada começa com 'SANTO'? {'SANTO' in cid[0]}\")"
   ]
  },
  {
   "cell_type": "code",
   "execution_count": 54,
   "id": "3c001629",
   "metadata": {},
   "outputs": [
    {
     "name": "stdout",
     "output_type": "stream",
     "text": [
      "Em que cidade você nasceu? Rio de Janeiro\n",
      "A cidade digitada começa com 'SANTO'? False\n"
     ]
    }
   ],
   "source": [
    "cidade = input('Em que cidade você nasceu? ').strip().upper()\n",
    "\n",
    "cid = cidade.split(' ')\n",
    "\n",
    "print(f\"A cidade digitada começa com 'SANTO'? {'SANTO' in cid[0]}\")"
   ]
  },
  {
   "cell_type": "markdown",
   "id": "9ffb16f1",
   "metadata": {},
   "source": [
    "#### Outra maneira de fazer o DESAFIO 24"
   ]
  },
  {
   "cell_type": "code",
   "execution_count": 57,
   "id": "f2ceaad6",
   "metadata": {},
   "outputs": [
    {
     "name": "stdout",
     "output_type": "stream",
     "text": [
      "Em que cidade você nasceu? Santo Antonio\n",
      "A cidade digitada começa com 'SANTO'? True\n"
     ]
    }
   ],
   "source": [
    "cidade = input('Em que cidade você nasceu? ').strip().upper()\n",
    "\n",
    "print(f\"A cidade digitada começa com 'SANTO'? {cidade[:5]=='SANTO'}\")"
   ]
  },
  {
   "cell_type": "code",
   "execution_count": 56,
   "id": "97a60b71",
   "metadata": {},
   "outputs": [
    {
     "name": "stdout",
     "output_type": "stream",
     "text": [
      "Em que cidade você nasceu? Rio de Janeiro\n",
      "A cidade digitada começa com 'SANTO'? False\n"
     ]
    }
   ],
   "source": [
    "cidade = input('Em que cidade você nasceu? ').strip().upper()\n",
    "\n",
    "print(f\"A cidade digitada começa com 'SANTO'? {cidade[:5]=='SANTO'}\")"
   ]
  },
  {
   "cell_type": "markdown",
   "id": "afb91bed",
   "metadata": {},
   "source": [
    "<hr>\n",
    "\n",
    "<h3 style=\"color:red\">DESAFIO 25</h3>\n",
    "\n",
    "Crie um programa que leia o nome de uma pessoa e diga se ela tem 'SILVA' no nome. "
   ]
  },
  {
   "cell_type": "code",
   "execution_count": 59,
   "id": "d6dca301",
   "metadata": {},
   "outputs": [
    {
     "name": "stdout",
     "output_type": "stream",
     "text": [
      "Qual é seu nome completo? Mario Silva Mendonça\n",
      "Seu nome tem Silva? True\n"
     ]
    }
   ],
   "source": [
    "nome = input('Qual é seu nome completo? ').strip().upper()\n",
    "\n",
    "n = nome.split(' ')\n",
    "print(f\"Seu nome tem Silva? {'SILVA' in n}\")"
   ]
  },
  {
   "cell_type": "code",
   "execution_count": 60,
   "id": "45720105",
   "metadata": {},
   "outputs": [
    {
     "name": "stdout",
     "output_type": "stream",
     "text": [
      "Qual é seu nome completo? Livia Reis Fontes\n",
      "Seu nome tem Silva? False\n"
     ]
    }
   ],
   "source": [
    "nome = input('Qual é seu nome completo? ').strip().upper()\n",
    "\n",
    "n = nome.split(' ')\n",
    "print(f\"Seu nome tem Silva? {'SILVA' in n}\")"
   ]
  },
  {
   "cell_type": "markdown",
   "id": "c610f7f9",
   "metadata": {},
   "source": [
    "<hr>\n",
    "\n",
    "<h3 style=\"color:red\">DESAFIO 26</h3>\n",
    "\n",
    "Faça um programa que leia uma frase pelo teclado e mostre:\n",
    "\n",
    "* Quantas vezes aparece a letra 'A'.\n",
    "* Em que posição ela aparece a primeira vez.\n",
    "* Em que posição ela aparece a última vez."
   ]
  },
  {
   "cell_type": "code",
   "execution_count": 79,
   "id": "c58efd60",
   "metadata": {},
   "outputs": [
    {
     "name": "stdout",
     "output_type": "stream",
     "text": [
      "Digite uma frase: Programador\n",
      "A letra 'A' aparece 2 vezes na frase digitada.\n",
      "A primeira vez que aparece a letra 'A' é na 6 posição.\n",
      "A última vez que aparece a letra 'A' é na 8 posição.\n"
     ]
    }
   ],
   "source": [
    "frase = input('Digite uma frase: ').strip().upper()\n",
    "\n",
    "print(f\"A letra 'A' aparece {frase.count('A')} vezes na frase digitada.\")\n",
    "print(f\"A primeira vez que aparece a letra 'A' é na {frase.find('A')+1} posição.\")\n",
    "print(f\"A última vez que aparece a letra 'A' é na {frase.rfind('A')+1} posição.\")"
   ]
  },
  {
   "cell_type": "markdown",
   "id": "567e479f",
   "metadata": {},
   "source": [
    "<hr>\n",
    "\n",
    "<h3 style=\"color:red\">DESAFIO 27</h3>\n",
    "\n",
    "Faça um programa que leia o nome completo de uma pessoa, mostrando em seguida o primeiro e o ultimo nome separadamente.\n",
    "\n",
    "Ex: Ana Maria de Souza\n",
    "\n",
    "* primeiro = Ana\n",
    "* último = Souza"
   ]
  },
  {
   "cell_type": "code",
   "execution_count": 83,
   "id": "4ad8c609",
   "metadata": {},
   "outputs": [
    {
     "name": "stdout",
     "output_type": "stream",
     "text": [
      "Digite seu nome completo: Lais Elias Gimenes\n",
      "Seu primeiro nome é: Lais\n",
      "Seu último nome é: Gimenes\n"
     ]
    }
   ],
   "source": [
    "nome = input('Digite seu nome completo: ')\n",
    "\n",
    "print(f\"Seu primeiro nome é: {nome.split(' ')[0]}\")\n",
    "print(f\"Seu último nome é: {nome.split(' ')[-1]}\")"
   ]
  },
  {
   "cell_type": "markdown",
   "id": "93395660",
   "metadata": {},
   "source": [
    "<hr>"
   ]
  },
  {
   "cell_type": "markdown",
   "id": "c4758109",
   "metadata": {},
   "source": [
    "### Condições no Python"
   ]
  },
  {
   "cell_type": "markdown",
   "id": "17ae1fd3",
   "metadata": {},
   "source": [
    "<h3 style=\"color:green\">Operadores de comparação no Python:</h3>\n",
    "\n",
    "|Operador|Descrição|Exemplo|\n",
    "|:--------:|:---------:|:-------:|\n",
    "| == | Igual | x == y|\n",
    "| != | Não igual | x != y|\n",
    "| > | Maior que | x > y|\n",
    "| < | Menor que | x < y|\n",
    "| >= | Maior ou igual que | x >= y|\n",
    "| <= | Menor ou igual que | x <= y|"
   ]
  },
  {
   "cell_type": "markdown",
   "id": "d90f76ec",
   "metadata": {},
   "source": [
    "<h3 style=\"color:green\">Operadores Lógicos no Python:</h3>\n",
    "\n",
    "|Operador|Descrição|Exemplo|\n",
    "|:--------:|:---------:|:-------:|\n",
    "| and | Retorna True <br>se ambas as afirmações são verdadeiras | x < 5 and x < 10|\n",
    "| or | Retorna True <br>se pelo menos uma afirmação é verdadeira| x < 5 or x < 4|\n",
    "| not | Inverte o resultado. <br>Retorna False se o rsultado for True| not(x < 5 and x < 10)|"
   ]
  },
  {
   "cell_type": "markdown",
   "id": "a2395564",
   "metadata": {},
   "source": [
    "<h3 style=\"color:green\">Operadores de Identidade no Python:</h3>\n",
    "\n",
    "|Operador|Descrição|Exemplo|\n",
    "|:--------:|:---------:|:-------:|\n",
    "| is | Retorna True se ambas <br>as variáveis forem o mesmo objeto | x  is y|\n",
    "| is not | Retorna True se ambas <br>as variáveis não forem o mesmo objeto| x is not y|\n"
   ]
  },
  {
   "cell_type": "markdown",
   "id": "84d237df",
   "metadata": {},
   "source": [
    "<h3 style=\"color:green\">Operadores de Associação no Python:</h3>\n",
    "\n",
    "|Operador|Descrição|Exemplo|\n",
    "|:--------:|:---------:|:-------:|\n",
    "| in | Retorna True se uma sequência com o <br>valor especificado estiver presente no objeto | x in y|\n",
    "| not in | Retorna True se uma sequência com o <br>valor especificado não estiver presente no objeto| x not in y|"
   ]
  },
  {
   "cell_type": "code",
   "execution_count": 1,
   "id": "a09d189e",
   "metadata": {},
   "outputs": [
    {
     "name": "stdout",
     "output_type": "stream",
     "text": [
      "Quantos anos tem seu carro? 2\n",
      "Carro novo\n",
      "--FIM--\n"
     ]
    }
   ],
   "source": [
    "tempo = int(input('Quantos anos tem seu carro? '))\n",
    "\n",
    "if (tempo <=3):\n",
    "    print('Carro novo')\n",
    "\n",
    "else:\n",
    "    print('Carro velho')\n",
    "\n",
    "print('--FIM--')"
   ]
  },
  {
   "cell_type": "code",
   "execution_count": 2,
   "id": "714c8d25",
   "metadata": {},
   "outputs": [
    {
     "name": "stdout",
     "output_type": "stream",
     "text": [
      "Quantos anos tem seu carro? 5\n",
      "Carro velho\n",
      "--FIM--\n"
     ]
    }
   ],
   "source": [
    "tempo = int(input('Quantos anos tem seu carro? '))\n",
    "\n",
    "if (tempo <=3):\n",
    "    print('Carro novo')\n",
    "\n",
    "else:\n",
    "    print('Carro velho')\n",
    "\n",
    "print('--FIM--')"
   ]
  },
  {
   "cell_type": "markdown",
   "id": "0cd2e5bc",
   "metadata": {},
   "source": [
    "#### Condição simplificada"
   ]
  },
  {
   "cell_type": "code",
   "execution_count": 3,
   "id": "71ea5d85",
   "metadata": {},
   "outputs": [
    {
     "name": "stdout",
     "output_type": "stream",
     "text": [
      "Quantos anos tem seu carro? 1\n",
      "Carro novo\n",
      "--FIM--\n"
     ]
    }
   ],
   "source": [
    "tempo = int(input('Quantos anos tem seu carro? '))\n",
    "\n",
    "print('Carro novo' if tempo<=3 else 'Carro velho')\n",
    "\n",
    "print('--FIM--')"
   ]
  },
  {
   "cell_type": "markdown",
   "id": "fe458ce4",
   "metadata": {},
   "source": [
    "**Observação**: Quando temos uma estrutura condicional **simples** só teremos o `if`, já na estrutura condicional **composta** teremos o `if` e o `else`."
   ]
  },
  {
   "cell_type": "markdown",
   "id": "46d83f45",
   "metadata": {},
   "source": [
    "<hr>\n",
    "\n",
    "<h3 style=\"color:red\">DESAFIO 28</h3>\n",
    "\n",
    "Escreva um programa que faça o computador \"pensar\" em um número inteiro entre 0 e 5 e peça para o usuário tentar descobrir qual foi o número escolhido pelo computador. O programa deverá escrever na tela se o usuário venceu ou perdeu."
   ]
  },
  {
   "cell_type": "code",
   "execution_count": 85,
   "id": "46053584",
   "metadata": {},
   "outputs": [
    {
     "name": "stdout",
     "output_type": "stream",
     "text": [
      "Digite um número inteiro entre 0 e 5, inclusivos: 0\n",
      "Você ganhou! O número escolhido foi 0\n"
     ]
    }
   ],
   "source": [
    "import random\n",
    "\n",
    "num_escolhido = random.randint(0,5)\n",
    "\n",
    "num = int(input('Digite um número inteiro entre 0 e 5, inclusivos: '))\n",
    "\n",
    "if(num == num_escolhido):\n",
    "    print(f'Você ganhou! O número escolhido foi {num_escolhido}')\n",
    "else:\n",
    "    print(f'Você perdeu! O número escolhido foi {num_escolhido}')"
   ]
  },
  {
   "cell_type": "markdown",
   "id": "f244bade",
   "metadata": {},
   "source": [
    "<hr>\n",
    "\n",
    "<h3 style=\"color:red\">DESAFIO 29</h3>\n",
    "\n",
    "Escreva um programa que leia a velocidade de um carro. Se ele ultrapassar 80km/h, mostre uma mensagem dizendo que ele foi multado. A multa vai custar R$7,00 por cada km acima do limite."
   ]
  },
  {
   "cell_type": "code",
   "execution_count": 92,
   "id": "4ed05a03",
   "metadata": {},
   "outputs": [
    {
     "name": "stdout",
     "output_type": "stream",
     "text": [
      "Digite a velocidade do carro em km/h: 150\n",
      "Você foi multado! Seu carro está acima de 80km/h. Sua multa será de R$490.0.\n"
     ]
    }
   ],
   "source": [
    "vel = float(input('Digite a velocidade do carro em km/h: '))\n",
    "\n",
    "if(vel > 80):\n",
    "    multa = (vel - 80) * 7\n",
    "    print(f'Você foi multado! Seu carro está acima de 80km/h. Sua multa será de R${round(multa,2)}.')\n",
    "else:\n",
    "    print('Continue dirigindo com cuidado. Tenha uma boa viagem!')"
   ]
  },
  {
   "cell_type": "code",
   "execution_count": 93,
   "id": "acb9eacc",
   "metadata": {},
   "outputs": [
    {
     "name": "stdout",
     "output_type": "stream",
     "text": [
      "Digite a velocidade do carro em km/h: 50\n",
      "Continue dirigindo com cuidado. Tenha uma boa viagem!\n"
     ]
    }
   ],
   "source": [
    "vel = float(input('Digite a velocidade do carro em km/h: '))\n",
    "\n",
    "if(vel > 80):\n",
    "    multa = (vel - 80) * 7\n",
    "    print(f'Você foi multado! Seu carro está acima de 80km/h. Sua multa será de R${round(multa,2)}.')\n",
    "else:\n",
    "    print('Continue dirigindo com cuidado. Tenha uma boa viagem!')"
   ]
  },
  {
   "cell_type": "markdown",
   "id": "866a6ef3",
   "metadata": {},
   "source": [
    "<hr>\n",
    "\n",
    "<h3 style=\"color:red\">DESAFIO 30</h3>\n",
    "\n",
    "Crie um programa que leia um número inteiro e mostre na tela se ele é PAR ou IMPAR."
   ]
  },
  {
   "cell_type": "code",
   "execution_count": 97,
   "id": "4f740a56",
   "metadata": {},
   "outputs": [
    {
     "name": "stdout",
     "output_type": "stream",
     "text": [
      "Digite um número inteiro: 24\n",
      "O número 24 é PAR!\n"
     ]
    }
   ],
   "source": [
    "num = int(input('Digite um número inteiro: '))\n",
    "\n",
    "if(num % 2 == 0):\n",
    "    print(f'O número {num} é PAR!')\n",
    "else:\n",
    "    print(f'O número {num} é ÍMPAR!')"
   ]
  },
  {
   "cell_type": "markdown",
   "id": "c73e80ed",
   "metadata": {},
   "source": [
    "<hr>\n",
    "\n",
    "<h3 style=\"color:red\">DESAFIO 31</h3>\n",
    "\n",
    "Desenvolva um programa que pergunte a distância de uma viagem em km. Calcule o preço da passagem, cobrando RS0,50 por km para viagens de até 200km e RS0,45 para viagens mais longas."
   ]
  },
  {
   "cell_type": "code",
   "execution_count": 99,
   "id": "5a802134",
   "metadata": {},
   "outputs": [
    {
     "name": "stdout",
     "output_type": "stream",
     "text": [
      "Digite a distância em km de sua viagem: 100\n",
      "Com uma distância de 100.0km sua passagem custará R$50.0\n"
     ]
    }
   ],
   "source": [
    "dist = float(input('Digite a distância em km de sua viagem: '))\n",
    "\n",
    "if(dist <= 200):\n",
    "    preco_passagem = dist * 0.50\n",
    "    print(f'Com uma distância de {dist}km sua passagem custará R${preco_passagem}')\n",
    "else:\n",
    "    preco_passagem = dist * 0.45\n",
    "    print(f'Com uma distância de {dist}km sua passagem custará R${preco_passagem}')"
   ]
  },
  {
   "cell_type": "markdown",
   "id": "b731883a",
   "metadata": {},
   "source": [
    "<hr>\n",
    "\n",
    "<h3 style=\"color:red\">DESAFIO 32</h3>\n",
    "\n",
    "Faça um programa que leia um ano qualquer e mostre se ele é BISSEXTO."
   ]
  },
  {
   "cell_type": "code",
   "execution_count": 111,
   "id": "612d6985",
   "metadata": {},
   "outputs": [
    {
     "name": "stdout",
     "output_type": "stream",
     "text": [
      "Que ano quer analisar? Coloque 0 para analisar o ano atual: 1700\n",
      "O ano 1700 NÃO É BISSEXTO!\n"
     ]
    }
   ],
   "source": [
    "import datetime as dt\n",
    "\n",
    "ano = int(input('Que ano quer analisar? Coloque 0 para analisar o ano atual: '))\n",
    "\n",
    "if(ano == 0):\n",
    "    ano = dt.date.today().year\n",
    "if(ano % 4 == 0 and ano % 100 != 0 or ano % 400 == 0):\n",
    "    print(f'O ano {ano} É BISSEXTO!')\n",
    "else:\n",
    "    print(f'O ano {ano} NÃO É BISSEXTO!')"
   ]
  },
  {
   "cell_type": "markdown",
   "id": "672b1663",
   "metadata": {},
   "source": [
    "<hr>\n",
    "\n",
    "<h3 style=\"color:red\">DESAFIO 33</h3>\n",
    "\n",
    "Faça um programa que leia três números e mostre qual é o maior e qual é o menor."
   ]
  },
  {
   "cell_type": "code",
   "execution_count": 113,
   "id": "2ab1be31",
   "metadata": {},
   "outputs": [
    {
     "name": "stdout",
     "output_type": "stream",
     "text": [
      "Digite o primeiro número inteiro: 5\n",
      "Digite o segundo número inteiro:2\n",
      "Digite o terceiro número inteiro:0\n",
      "O menor valor digitado foi: 0\n",
      "O maior valor digitado foi: 5\n"
     ]
    }
   ],
   "source": [
    "num1 = int(input('Digite o primeiro número inteiro: '))\n",
    "num2 = int(input('Digite o segundo número inteiro:'))\n",
    "num3 = int(input('Digite o terceiro número inteiro:'))\n",
    "\n",
    "menor = num1\n",
    "\n",
    "if(num2 < num1 and num2 < num3):\n",
    "    menor = num2\n",
    "\n",
    "if(num3 < num1 and num3 < num2):\n",
    "    menor = num3\n",
    "    \n",
    "maior = num1\n",
    "\n",
    "if(num2 > num1 and num > num3):\n",
    "    maior = num2\n",
    "\n",
    "if(num3 > num1 and num3 > num2):\n",
    "    maior = num3\n",
    "    \n",
    "print(f'O menor valor digitado foi: {menor}')\n",
    "print(f'O maior valor digitado foi: {maior}')"
   ]
  },
  {
   "cell_type": "markdown",
   "id": "53d5a3af",
   "metadata": {},
   "source": [
    "<hr>\n",
    "\n",
    "<h3 style=\"color:red\">DESAFIO 34</h3>\n",
    "\n",
    "Escreva um programa que pergunte o salário de um funcionário e calcule o valor do seu aumento. Para salários superiores a RS1.250,00, calcular um aumento de 10%. Para os inferiores ou iguais, o aumento é de 15%. "
   ]
  },
  {
   "cell_type": "code",
   "execution_count": 101,
   "id": "db32635d",
   "metadata": {},
   "outputs": [
    {
     "name": "stdout",
     "output_type": "stream",
     "text": [
      "Digite seu salário: 1000\n",
      "Seu salário aumentou 15% agora ele será de R$1150.0\n"
     ]
    }
   ],
   "source": [
    "sal = float(input('Digite seu salário: '))\n",
    "\n",
    "if(sal > 1250):\n",
    "    novo_salario = sal + (sal*0.10)\n",
    "    print(f'Seu salário aumentou 10% agora ele será de R${novo_salario}')\n",
    "else:\n",
    "    novo_salario = sal + (sal*0.15)\n",
    "    print(f'Seu salário aumentou 15% agora ele será de R${novo_salario}')"
   ]
  },
  {
   "cell_type": "markdown",
   "id": "27c3183e",
   "metadata": {},
   "source": [
    "<hr>\n",
    "\n",
    "<h3 style=\"color:red\">DESAFIO 35</h3>\n",
    "\n",
    "Desenvolva um programa que leia o comprimento de três retas e diga ao usuário se elas podem ou não formar um triângulo."
   ]
  },
  {
   "cell_type": "code",
   "execution_count": 104,
   "id": "bf9497ad",
   "metadata": {},
   "outputs": [
    {
     "name": "stdout",
     "output_type": "stream",
     "text": [
      "Digite o comprimento da reta 1: 9\n",
      "Digite o comprimento da reta 2: 7\n",
      "Digite o comprimento da reta 3: 8\n",
      "As suas retas PODEM formar um triângulo!\n"
     ]
    }
   ],
   "source": [
    "# Condicao de existencia de um triangulo:\n",
    "# \"A soma de dois lados é sempre menor que o terceiro lado\"\n",
    "\n",
    "reta1 = float(input('Digite o comprimento da reta 1: '))\n",
    "reta2 = float(input('Digite o comprimento da reta 2: '))\n",
    "reta3 = float(input('Digite o comprimento da reta 3: '))\n",
    "\n",
    "if(reta1 + reta2 > reta3 and reta2 + reta3 > reta1 and reta1 + reta3 > reta2):\n",
    "    print('As suas retas PODEM formar um triângulo!')\n",
    "else:\n",
    "    print('As suas retas NÃO PODEM formar um triângulo!')"
   ]
  },
  {
   "cell_type": "markdown",
   "id": "dfbfcdc3",
   "metadata": {},
   "source": [
    "<hr>"
   ]
  }
 ],
 "metadata": {
  "kernelspec": {
   "display_name": "Python 3 (ipykernel)",
   "language": "python",
   "name": "python3"
  },
  "language_info": {
   "codemirror_mode": {
    "name": "ipython",
    "version": 3
   },
   "file_extension": ".py",
   "mimetype": "text/x-python",
   "name": "python",
   "nbconvert_exporter": "python",
   "pygments_lexer": "ipython3",
   "version": "3.9.12"
  }
 },
 "nbformat": 4,
 "nbformat_minor": 5
}
